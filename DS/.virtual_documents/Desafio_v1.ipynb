import pandas as pd 

import numpy as np

import matplotlib.pyplot as plt #bibliotecas para visualizações
import seaborn as sns

from datasetsforecast.hierarchical import HierarchicalData
from hierarchicalforecast.core import HierarchicalReconciliation
from hierarchicalforecast.methods import  BottomUp, TopDown, MiddleOut, MinTrace, ERM
from hierarchicalforecast.evaluation import HierarchicalEvaluation
from statsforecast.core import StatsForecast
from statsforecast.models import AutoARIMA, Naive
import pyarrow

from datetime import datetime

from sklearn.metrics import mean_squared_error as mse




















pd.set_option('display.max_rows', 500)


pd.options.display.width = 0


# reading the dataset using read_csv
df = pd.read_csv("tabela_ds_agrupada.csv", 
                 parse_dates=True, 
                 index_col="orderdate")
 
# displaying the first five rows of dataset
df.head()



print(df.head())


df.info()


df.isna().sum()





df['name_store'] = df['name_store'].fillna('online')





#copia o df original
df_aux = df.copy()
# Crie uma nova coluna 'ano-mês' no DataFrame
df_aux['ano_mes'] = df_aux.index.to_period('M')

# Filtra os dados para a loja 'online'
df_online = df_aux[df_aux['name_store'] == 'online']

# Filtra os dados para todas as outras lojas
df_outros = df_aux[df_aux['name_store'] != 'online']

# Agrupa os dados por 'ano-mês' e soma as vendas
df_total_online = df_online.groupby('ano_mes')['total_qtd_product'].sum()
df_total_outros = df_outros.groupby('ano_mes')['total_qtd_product'].sum()

# Cria o gráfico para a loja 'online'
df_total_online.plot(kind='line', figsize=(18,2))
df_total_online.plot(marker='x', linestyle='', color='red')
plt.title('Totais absolutos de vendas para a loja online por mês')
plt.xlabel('Mês')
plt.ylabel('Total de vendas')
plt.show()

# Cria o gráfico para todas as outras lojas
df_total_outros.plot(kind='line', figsize=(18,2))
df_total_outros.plot(marker='x', linestyle='', color='red')
plt.title('Totais absolutos de vendas para todas as lojas físicas por mês')
plt.xlabel('Mês')
plt.ylabel('Total de vendas')
plt.show()



#copia o df original
df_aux = df.copy()
# Crie uma nova coluna 'ano-mês' no DataFrame
df_aux['ano_mes'] = df_aux.index.to_period('M')

# Obtenha a lista de todas as lojas únicas
lojas = df_aux['name_store'].unique()

# Para cada loja, crie um gráfico separado
for loja in lojas:
    # Filtra os dados para a loja atual
    df_loja = df_aux[df_aux['name_store'] == loja]
    
    # Agrupa os dados por 'ano-mês' e soma as vendas
    df_grouped = df_loja.groupby('ano_mes')['total_qtd_product'].sum()
    
    # Cria o gráfico
    df_grouped.plot(kind='line', figsize=(15,1))

    # Adiciona marcações com 'x' vermelho nos pontos de dados
    df_grouped.plot(marker='x', linestyle='', color='red')
    
    plt.title(f'Totais de vendas para a loja **{loja}** por mês')
    plt.xlabel('Mês')
    plt.ylabel('Total de vendas')
    plt.show()


# Para cada loja, crie um gráfico separado
for loja in lojas:
    # Filtra os dados para a loja atual
    df_loja = df_aux[df_aux['name_store'] == loja]
    
    # Agrupa os dados por 'ano-mês' e soma as vendas
    df_grouped = df_loja.groupby('ano_mes')['total_qtd_product'].sum()
    
    # Cria o gráfico
    df_grouped.plot(kind='line', figsize=(20,3))

    # Adiciona marcações com 'x' vermelho nos pontos de dados
    df_grouped.plot(marker='x', linestyle='', color='red')
    
    # Adiciona os valores para cada ponto
    for x, y in zip(df_grouped.index, df_grouped.values):
        plt.text(x, y, str(y), color="blue", fontsize=8)
    
    plt.title(f'Totais de vendas para a loja **{loja}** por mês')
    plt.xlabel('Mês')
    plt.ylabel('Total de vendas')
    plt.show()


# Copia o DataFrame original
df_aux = df.copy()

# Cria uma nova coluna 'ano-mês' no DataFrame
df_aux['ano_mes'] = df_aux.index.to_period('M')

# Obtém a lista de todos os modelos de produtos únicos
produtos = df_aux['productmodel_name'].unique()

# Para cada modelo de produto, cria um gráfico separado
for produto in produtos:
    # Filtra os dados para o modelo de produto atual
    df_produto = df_aux[df_aux['productmodel_name'] == produto]
    
    # Agrupa os dados por 'ano-mês' e soma as vendas
    df_grouped = df_produto.groupby('ano_mes')['total_qtd_product'].sum()
    
    # Cria o gráfico
    df_grouped.plot(kind='line', figsize=(18,2))

    # Adiciona marcações com 'x' vermelho nos pontos de dados
    df_grouped.plot(marker='x', linestyle='', color='red')
    
    plt.title(f'Totais de vendas para o produto **{produto}** por mês')
    plt.xlabel('Mês')
    plt.ylabel('Total de vendas')
    plt.show()



# Para cada modelo de produto, cria um gráfico separado
for produto in produtos:
    # Filtra os dados para o modelo de produto atual
    df_produto = df_aux[df_aux['productmodel_name'] == produto]
    
    # Agrupa os dados por 'ano-mês' e soma as vendas
    df_grouped = df_produto.groupby('ano_mes')['total_qtd_product'].sum()
    
    # Cria o gráfico
    df_grouped.plot(kind='line', figsize=(18,2))

    # Adiciona marcações com 'x' vermelho nos pontos de dados
    df_grouped.plot(marker='x', linestyle='', color='red')
    
    # Adiciona os valores para cada ponto
    for x, y in zip(df_grouped.index, df_grouped.values):
        plt.text(x, y, str(y), color="blue", fontsize=12)
    
    plt.title(f'Totais de vendas para o produto **{produto}** por mês')
    plt.xlabel('Mês')
    plt.ylabel('Total de vendas')
    plt.show()

















print('As datas encontram-se no intervalo de', df.index.min().strftime('%Y-%m-%d'), 'até', df.index.max().strftime('%Y-%m-%d'))








def create_features(df):
    """
    Cria recursos de séries temporais com base no índice de séries temporais.
    """
    df = df.copy()  # Fazendo uma cópia do DataFrame original
    df['dayofweek'] = df.index.dayofweek  # Extraindo o dia da semana do índice
    df['quarter'] = df.index.quarter  # Extraindo o trimestre do índice
    df['month'] = df.index.month  # Extraindo o mês do índice
    df['year'] = df.index.year  # Extraindo o ano do índice
    df['dayofyear'] = df.index.dayofyear  # Extraindo o dia do ano do índice
    df['dayofmonth'] = df.index.day  # Extraindo o dia do mês do índice
    df['weekofyear'] = df.index.isocalendar().week  # Extraindo a semana do ano do índice
    return df  # Retornando o DataFrame modificado

df = create_features(df)  # Aplicando a função ao DataFrame



df.dtypes


df.describe(exclude=['int32','UInt32']).T


df.describe(exclude=['float64', 'datetime64', 'int64','int32','UInt32']).T





# Filtrando o DataFrame para o ano de 2014
# Obtendo uma descrição estatística das colunas não numéricas
df[df['year'] == 2013].describe(exclude=['float64', 'datetime64', 'int64']).T





# Filtrando o DataFrame para o ano de 2014
# Obtendo uma descrição estatística das colunas não numéricas
df[df['year'] == 2014].describe(exclude=['float64', 'datetime64', 'int64']).T



df['name_store'].unique()


print("Hierarquia das lojas")
for store in np.sort(df['name_store'].unique()):
    print("├──>",store)



df['productmodel_name'].unique()


print("Hierarquia das lojas e seus produtos")
for store in np.sort(df['name_store'].unique()):
    print("├──>",store)
    for produto in  np.sort(df['productmodel_name'][df['name_store']==store].unique()):
        print("│  ├───>", produto)        
    








# Passo 1: Crie uma lista de todas as categorias e subcategorias únicas
categorias = np.append(['Total'], np.sort(df['name_store'].unique()))
subcategorias = df['productmodel_name'].unique()


# Passo 2: Crie um DataFrame de zeros com as categorias e subcategorias como índices e colunas
S = pd.DataFrame(np.zeros((len(categorias), len(subcategorias))),
                 index=categorias, columns=subcategorias)


# Passo 3: Percorra o DataFrame e defina o valor como 1 se a categoria tiver a subcategoria
for categoria in categorias:
    if categoria == 'Total':
        S.loc[categoria] = 1
    else:
        for subcategoria in df.loc[df['name_store'] == categoria, 'productmodel_name'].unique():
            S.loc[categoria, subcategoria] = 1
            S.loc[f'{categoria}->{subcategoria}', subcategoria] = 1

# Preencha os valores NaN com 0 antes de converter para inteiros
S = S.fillna(0).astype(int)


S.head(10)


tags = {}
tags['Total'] = np.array(['Total'], dtype=object)
tags['Store'] = df['name_store'].unique()
tags['Store/Product'] = [f'{store}_{product}' for store in df['name_store'].unique() for product in df[df['name_store'] == store]['productmodel_name'].unique()]


print(tags)


for coluna in df.columns:
    print(coluna)


# Cria a matriz no formato longo: produtos individuais
df_prod = df.groupby(['orderdate', 'productmodel_name'])[['total_qtd_product']].sum()
df_prod.reset_index(inplace=True)
df_prod.columns = ['ds', 'unique_id', 'sales'] # ds = dataserie

# Cria a matriz no formato longo: nível da loja
df_store = df.groupby(['orderdate', 'name_store'])[['total_qtd_product']].sum()
df_store.reset_index(inplace=True)
df_store.columns = ['ds', 'unique_id', 'sales']

# Cria a matriz no formato longo: nível total
df_tot = df.groupby(['orderdate'])[['total_qtd_product']].sum()
df_tot.reset_index(inplace=True)
df_tot['unique_id'] = 'Total'
df_tot.columns = ['ds', 'sales', 'unique_id' ]

# Combina todos os três
dfx = pd.concat([df_prod, df_store, df_tot], axis = 0)
print(df_prod.shape, df_store.shape, df_tot.shape, dfx.shape)

# Formatação
xset = set(dfx.unique_id)
dfx.columns = ['ds','unique_id', 'y']
dfx['ds'] = pd.to_datetime(dfx['ds'])
dfx.head(10)



# Defina as datas de início e fim
data_inicio = datetime.strptime('2014-07-01', '%Y-%m-%d')
data_fim = datetime.strptime('2014-09-30', '%Y-%m-%d')


# Calcule a diferença em dias
horizon = (data_fim - data_inicio).days
horizon


# Cria o conjunto de teste pegando as últimas 'horizon' observações de cada série no DataFrame 'dfx'
x_test = dfx.groupby('unique_id').tail(horizon)

# Define 'unique_id' como o índice para o conjunto de teste
x_test = x_test.set_index('unique_id')



# Cria o conjunto de treinamento removendo as observações do conjunto de teste do DataFrame 'dfx'
x_train = dfx.drop(x_test.index)

# Define 'unique_id' como o índice para o conjunto de treinamento
x_train = x_train.set_index('unique_id')


# Cria um objeto de previsão usando o modelo AutoARIMA com um comprimento de estação de um ano e uma frequência diária
# O parâmetro 'n_jobs=-1' permite que o modelo use todos os núcleos disponíveis para computação paralela
fcst = StatsForecast(df=x_train, models=[AutoARIMA(season_length=365)], freq='D', n_jobs=-1)

# Faz a previsão para o horizonte definido anteriormente usando o modelo treinado
x_hat = fcst.forecast(h=horizon)



aux = x_hat.reset_index()
aux


xmat = pd.merge(left = x_test, right = x_hat, on = ['ds', 'unique_id'])
xmat.head(3)


def my_rmse(x, y):
  """
  Calcula a Raiz Quadrada do Erro Quadrático Médio (RMSE) entre duas séries.

  Argumentos:
    x: DataFrame ou Series com os valores a serem comparados.
    y: DataFrame ou Series com os valores de referência.

  Retorna:
    O valor do RMSE arredondado para 4 casas decimais.
  """

  # Extrai os valores numéricos das séries.
  x_vals = x.values
  y_vals = y.values

  # Calcula o RMSE.
  rmse = np.sqrt(mse(x_vals, y_vals))

  # Arredonda o resultado para 4 casas decimais.
  return np.round(rmse, 4)



xmat = pd.merge(left = x_test, right = x_hat, on = ['ds', 'unique_id'])
xmat.columns = [['ds', 'y', 'pred']]
print('overall rmse: ' + str(my_rmse(xmat['y'], xmat['pred'])))


print(' rmse: ' + str(my_rmse(
                                        xmat.loc[tags['Store/Product']]['y'], 
                                        xmat.loc[tags['Store/Product']]['pred']
                                        )
                             )
         )


for k in tags.keys():
    print(' rmse: ' + str(my_rmse(
                                        xmat.loc[tags[k]]['y'], 
                                        xmat.loc[tags[k]]['pred']
                                        )
                             )
         )


for k in tags.keys():
    print(k + ' rmse: ' + str(my_rmse(
                                        xmat.loc[tags[k]]['y'], 
                                        xmat.loc[tags[k]]['pred']
                                        )
                             )
         )






for k in tags.keys():
    print(k + ' rmse: ' +
          str(my_rmse(xmat.loc[tags[k]]['y'], xmat.loc[tags[k]]['pred'])))








for k in tags.keys():
    # Verifica se cada elemento em 'tags[k]' existe no índice do DataFrame
    if all(elem in xmat.index for elem in tags[k].tolist()):
        print(k + ' rmse: ' + str(my_rmse(xmat.loc[tags[k].tolist()]['y'], xmat.loc[tags[k].tolist()]['pred'])))
    else:
        print(f"Algumas chaves em {tags[k].tolist()} não foram encontradas no índice do DataFrame.")













