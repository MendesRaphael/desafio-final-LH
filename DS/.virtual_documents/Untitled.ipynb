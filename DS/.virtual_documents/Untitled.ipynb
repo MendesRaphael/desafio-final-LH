import pandas as pd 
import numpy as np

import matplotlib.pyplot as plt #bibliotecas para visualizações
import seaborn as sns


df = pd.read_csv('tabela_ds.csv')
df.head()


df.shape





df.dtypes


df.orderdate = pd.to_datetime(df.orderdate)
df['orderdate'].head()


df.describe().T


df.describe(exclude=['float64', 'datetime64', 'int64']).T



