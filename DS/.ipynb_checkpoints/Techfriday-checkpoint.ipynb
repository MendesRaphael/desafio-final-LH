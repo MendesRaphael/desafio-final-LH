{
 "cells": [
  {
   "cell_type": "markdown",
   "id": "356b0d98-f3ef-43e6-a7b0-0fb42b17caea",
   "metadata": {},
   "source": [
    "# Previsão de Demanda \n",
    "\n",
    "Tipicamente em uma cadeia produtiva, os tempos de espera (lead times) por materiais e atividades necessárias são maiores do que a expectativa de tempo do cliente para obtenção do produto. Isto significa que precisamos trabalhar com **expectativas de demanda**."
   ]
  },
  {
   "cell_type": "markdown",
   "id": "e79dd047-d16e-4664-8573-2d8e29959b31",
   "metadata": {},
   "source": [
    "<div style=\"text-align:center\"><img src=\"https://nedncl.com/console/assets/img/1.gif\" /></div>"
   ]
  },
  {
   "cell_type": "markdown",
   "id": "9534d956-d28f-4359-8418-df82a95a0198",
   "metadata": {},
   "source": [
    "Algumas das principais aplicações da previsão de demanda são:\n",
    "\n",
    "* Varejo: A previsão de demanda é crucial para gerenciar estoques e garantir que os produtos estejam disponíveis quando os clientes os desejarem.\n",
    "* Fabricação: Ajuda na otimização dos cronogramas de produção e na alocação de recursos.\n",
    "* Gestão da cadeia de abastecimento: As operações eficientes da cadeia de abastecimento dependem de previsões de procura precisas.\n",
    "* Finanças: O planejamento financeiro e o orçamento geralmente incorporam previsões de demanda.\n",
    "\n",
    "Algumas das questões a serem respondidas ao prever as demandas são **quando**, **onde** e **quanto**. As previsões não são metas, mas sim demandas que provavelmente irão existir e podem ser utilizadas no planejamento estratégico e tomada de decisão de equipes de compras, vendas e marketing de empresas."
   ]
  },
  {
   "cell_type": "markdown",
   "id": "bfb223cf-8c10-4634-993f-25977ae484b7",
   "metadata": {},
   "source": [
    "## Setup"
   ]
  },
  {
   "cell_type": "code",
   "execution_count": 1,
   "id": "ed0e903c-95f2-46a9-9d5d-6b842fdd1dbe",
   "metadata": {
    "tags": []
   },
   "outputs": [
    {
     "data": {
      "text/html": [
       "<pre style=\"white-space:pre;overflow-x:auto;line-height:normal;font-family:Menlo,'DejaVu Sans Mono',consolas,'Courier New',monospace\"><span style=\"color: #7fbfbf; text-decoration-color: #7fbfbf\">[02/16/24 09:48:10] </span><span style=\"color: #000080; text-decoration-color: #000080\">INFO    </span> Resolved project path as:                                              <a href=\"file:///home/pedro/indicium/sbx_kedro_demand_forecast/venv/lib/python3.10/site-packages/kedro/ipython/__init__.py\" target=\"_blank\"><span style=\"color: #7f7f7f; text-decoration-color: #7f7f7f\">__init__.py</span></a><span style=\"color: #7f7f7f; text-decoration-color: #7f7f7f\">:</span><a href=\"file:///home/pedro/indicium/sbx_kedro_demand_forecast/venv/lib/python3.10/site-packages/kedro/ipython/__init__.py#149\" target=\"_blank\"><span style=\"color: #7f7f7f; text-decoration-color: #7f7f7f\">149</span></a>\n",
       "<span style=\"color: #7fbfbf; text-decoration-color: #7fbfbf\">                    </span>         <span style=\"color: #800080; text-decoration-color: #800080\">/home/pedro/indicium/</span><span style=\"color: #ff00ff; text-decoration-color: #ff00ff\">sbx_kedro_demand_forecast.</span>                        <span style=\"color: #7f7f7f; text-decoration-color: #7f7f7f\">               </span>\n",
       "<span style=\"color: #7fbfbf; text-decoration-color: #7fbfbf\">                    </span>         To set a different path, run <span style=\"color: #008000; text-decoration-color: #008000\">'%reload_kedro &lt;project_root&gt;'</span>            <span style=\"color: #7f7f7f; text-decoration-color: #7f7f7f\">               </span>\n",
       "</pre>\n"
      ],
      "text/plain": [
       "\u001b[2;36m[02/16/24 09:48:10]\u001b[0m\u001b[2;36m \u001b[0m\u001b[34mINFO    \u001b[0m Resolved project path as:                                              \u001b]8;id=17656;file:///home/pedro/indicium/sbx_kedro_demand_forecast/venv/lib/python3.10/site-packages/kedro/ipython/__init__.py\u001b\\\u001b[2m__init__.py\u001b[0m\u001b]8;;\u001b\\\u001b[2m:\u001b[0m\u001b]8;id=581480;file:///home/pedro/indicium/sbx_kedro_demand_forecast/venv/lib/python3.10/site-packages/kedro/ipython/__init__.py#149\u001b\\\u001b[2m149\u001b[0m\u001b]8;;\u001b\\\n",
       "\u001b[2;36m                    \u001b[0m         \u001b[35m/home/pedro/indicium/\u001b[0m\u001b[95msbx_kedro_demand_forecast.\u001b[0m                        \u001b[2m               \u001b[0m\n",
       "\u001b[2;36m                    \u001b[0m         To set a different path, run \u001b[32m'%reload_kedro \u001b[0m\u001b[32m<\u001b[0m\u001b[32mproject_root\u001b[0m\u001b[32m>\u001b[0m\u001b[32m'\u001b[0m            \u001b[2m               \u001b[0m\n"
      ]
     },
     "metadata": {},
     "output_type": "display_data"
    },
    {
     "data": {
      "text/html": [
       "<pre style=\"white-space:pre;overflow-x:auto;line-height:normal;font-family:Menlo,'DejaVu Sans Mono',consolas,'Courier New',monospace\"><span style=\"color: #7fbfbf; text-decoration-color: #7fbfbf\">[02/16/24 09:48:11] </span><span style=\"color: #000080; text-decoration-color: #000080\">INFO    </span> The <span style=\"color: #008000; text-decoration-color: #008000\">'tracking_uri'</span> key in mlflow.yml is relative            <a href=\"file:///home/pedro/indicium/sbx_kedro_demand_forecast/venv/lib/python3.10/site-packages/kedro_mlflow/config/kedro_mlflow_config.py\" target=\"_blank\"><span style=\"color: #7f7f7f; text-decoration-color: #7f7f7f\">kedro_mlflow_config.py</span></a><span style=\"color: #7f7f7f; text-decoration-color: #7f7f7f\">:</span><a href=\"file:///home/pedro/indicium/sbx_kedro_demand_forecast/venv/lib/python3.10/site-packages/kedro_mlflow/config/kedro_mlflow_config.py#260\" target=\"_blank\"><span style=\"color: #7f7f7f; text-decoration-color: #7f7f7f\">260</span></a>\n",
       "<span style=\"color: #7fbfbf; text-decoration-color: #7fbfbf\">                    </span>         <span style=\"font-weight: bold\">(</span><span style=\"color: #008000; text-decoration-color: #008000\">'server.mlflow_(tracking|registry)_uri = mlruns'</span><span style=\"font-weight: bold\">)</span>. It is   <span style=\"color: #7f7f7f; text-decoration-color: #7f7f7f\">                          </span>\n",
       "<span style=\"color: #7fbfbf; text-decoration-color: #7fbfbf\">                    </span>         converted to a valid uri:                                   <span style=\"color: #7f7f7f; text-decoration-color: #7f7f7f\">                          </span>\n",
       "<span style=\"color: #7fbfbf; text-decoration-color: #7fbfbf\">                    </span>         <span style=\"color: #008000; text-decoration-color: #008000\">'file:///home/pedro/indicium/sbx_kedro_demand_forecast/mlru</span> <span style=\"color: #7f7f7f; text-decoration-color: #7f7f7f\">                          </span>\n",
       "<span style=\"color: #7fbfbf; text-decoration-color: #7fbfbf\">                    </span>         <span style=\"color: #008000; text-decoration-color: #008000\">ns'</span>                                                         <span style=\"color: #7f7f7f; text-decoration-color: #7f7f7f\">                          </span>\n",
       "</pre>\n"
      ],
      "text/plain": [
       "\u001b[2;36m[02/16/24 09:48:11]\u001b[0m\u001b[2;36m \u001b[0m\u001b[34mINFO    \u001b[0m The \u001b[32m'tracking_uri'\u001b[0m key in mlflow.yml is relative            \u001b]8;id=236285;file:///home/pedro/indicium/sbx_kedro_demand_forecast/venv/lib/python3.10/site-packages/kedro_mlflow/config/kedro_mlflow_config.py\u001b\\\u001b[2mkedro_mlflow_config.py\u001b[0m\u001b]8;;\u001b\\\u001b[2m:\u001b[0m\u001b]8;id=448811;file:///home/pedro/indicium/sbx_kedro_demand_forecast/venv/lib/python3.10/site-packages/kedro_mlflow/config/kedro_mlflow_config.py#260\u001b\\\u001b[2m260\u001b[0m\u001b]8;;\u001b\\\n",
       "\u001b[2;36m                    \u001b[0m         \u001b[1m(\u001b[0m\u001b[32m'server.mlflow_\u001b[0m\u001b[32m(\u001b[0m\u001b[32mtracking|registry\u001b[0m\u001b[32m)\u001b[0m\u001b[32m_uri = mlruns'\u001b[0m\u001b[1m)\u001b[0m. It is   \u001b[2m                          \u001b[0m\n",
       "\u001b[2;36m                    \u001b[0m         converted to a valid uri:                                   \u001b[2m                          \u001b[0m\n",
       "\u001b[2;36m                    \u001b[0m         \u001b[32m'file:///home/pedro/indicium/sbx_kedro_demand_forecast/mlru\u001b[0m \u001b[2m                          \u001b[0m\n",
       "\u001b[2;36m                    \u001b[0m         \u001b[32mns'\u001b[0m                                                         \u001b[2m                          \u001b[0m\n"
      ]
     },
     "metadata": {},
     "output_type": "display_data"
    },
    {
     "data": {
      "text/html": [
       "<pre style=\"white-space:pre;overflow-x:auto;line-height:normal;font-family:Menlo,'DejaVu Sans Mono',consolas,'Courier New',monospace\"><span style=\"color: #7fbfbf; text-decoration-color: #7fbfbf\">[02/16/24 09:48:12] </span><span style=\"color: #000080; text-decoration-color: #000080\">INFO    </span> Kedro project base_kedro_hierarchical_project                          <a href=\"file:///home/pedro/indicium/sbx_kedro_demand_forecast/venv/lib/python3.10/site-packages/kedro/ipython/__init__.py\" target=\"_blank\"><span style=\"color: #7f7f7f; text-decoration-color: #7f7f7f\">__init__.py</span></a><span style=\"color: #7f7f7f; text-decoration-color: #7f7f7f\">:</span><a href=\"file:///home/pedro/indicium/sbx_kedro_demand_forecast/venv/lib/python3.10/site-packages/kedro/ipython/__init__.py#119\" target=\"_blank\"><span style=\"color: #7f7f7f; text-decoration-color: #7f7f7f\">119</span></a>\n",
       "</pre>\n"
      ],
      "text/plain": [
       "\u001b[2;36m[02/16/24 09:48:12]\u001b[0m\u001b[2;36m \u001b[0m\u001b[34mINFO    \u001b[0m Kedro project base_kedro_hierarchical_project                          \u001b]8;id=270250;file:///home/pedro/indicium/sbx_kedro_demand_forecast/venv/lib/python3.10/site-packages/kedro/ipython/__init__.py\u001b\\\u001b[2m__init__.py\u001b[0m\u001b]8;;\u001b\\\u001b[2m:\u001b[0m\u001b]8;id=511360;file:///home/pedro/indicium/sbx_kedro_demand_forecast/venv/lib/python3.10/site-packages/kedro/ipython/__init__.py#119\u001b\\\u001b[2m119\u001b[0m\u001b]8;;\u001b\\\n"
      ]
     },
     "metadata": {},
     "output_type": "display_data"
    },
    {
     "data": {
      "text/html": [
       "<pre style=\"white-space:pre;overflow-x:auto;line-height:normal;font-family:Menlo,'DejaVu Sans Mono',consolas,'Courier New',monospace\"><span style=\"color: #7fbfbf; text-decoration-color: #7fbfbf\">                    </span><span style=\"color: #000080; text-decoration-color: #000080\">INFO    </span> Defined global variable <span style=\"color: #008000; text-decoration-color: #008000\">'context'</span>, <span style=\"color: #008000; text-decoration-color: #008000\">'session'</span>, <span style=\"color: #008000; text-decoration-color: #008000\">'catalog'</span> and            <a href=\"file:///home/pedro/indicium/sbx_kedro_demand_forecast/venv/lib/python3.10/site-packages/kedro/ipython/__init__.py\" target=\"_blank\"><span style=\"color: #7f7f7f; text-decoration-color: #7f7f7f\">__init__.py</span></a><span style=\"color: #7f7f7f; text-decoration-color: #7f7f7f\">:</span><a href=\"file:///home/pedro/indicium/sbx_kedro_demand_forecast/venv/lib/python3.10/site-packages/kedro/ipython/__init__.py#120\" target=\"_blank\"><span style=\"color: #7f7f7f; text-decoration-color: #7f7f7f\">120</span></a>\n",
       "<span style=\"color: #7fbfbf; text-decoration-color: #7fbfbf\">                    </span>         <span style=\"color: #008000; text-decoration-color: #008000\">'pipelines'</span>                                                            <span style=\"color: #7f7f7f; text-decoration-color: #7f7f7f\">               </span>\n",
       "</pre>\n"
      ],
      "text/plain": [
       "\u001b[2;36m                   \u001b[0m\u001b[2;36m \u001b[0m\u001b[34mINFO    \u001b[0m Defined global variable \u001b[32m'context'\u001b[0m, \u001b[32m'session'\u001b[0m, \u001b[32m'catalog'\u001b[0m and            \u001b]8;id=148318;file:///home/pedro/indicium/sbx_kedro_demand_forecast/venv/lib/python3.10/site-packages/kedro/ipython/__init__.py\u001b\\\u001b[2m__init__.py\u001b[0m\u001b]8;;\u001b\\\u001b[2m:\u001b[0m\u001b]8;id=344931;file:///home/pedro/indicium/sbx_kedro_demand_forecast/venv/lib/python3.10/site-packages/kedro/ipython/__init__.py#120\u001b\\\u001b[2m120\u001b[0m\u001b]8;;\u001b\\\n",
       "\u001b[2;36m                    \u001b[0m         \u001b[32m'pipelines'\u001b[0m                                                            \u001b[2m               \u001b[0m\n"
      ]
     },
     "metadata": {},
     "output_type": "display_data"
    },
    {
     "data": {
      "text/html": [
       "<pre style=\"white-space:pre;overflow-x:auto;line-height:normal;font-family:Menlo,'DejaVu Sans Mono',consolas,'Courier New',monospace\"><span style=\"color: #7fbfbf; text-decoration-color: #7fbfbf\">                    </span><span style=\"color: #000080; text-decoration-color: #000080\">INFO    </span> Registered line magic <span style=\"color: #008000; text-decoration-color: #008000\">'run_viz'</span>                                        <a href=\"file:///home/pedro/indicium/sbx_kedro_demand_forecast/venv/lib/python3.10/site-packages/kedro/ipython/__init__.py\" target=\"_blank\"><span style=\"color: #7f7f7f; text-decoration-color: #7f7f7f\">__init__.py</span></a><span style=\"color: #7f7f7f; text-decoration-color: #7f7f7f\">:</span><a href=\"file:///home/pedro/indicium/sbx_kedro_demand_forecast/venv/lib/python3.10/site-packages/kedro/ipython/__init__.py#126\" target=\"_blank\"><span style=\"color: #7f7f7f; text-decoration-color: #7f7f7f\">126</span></a>\n",
       "</pre>\n"
      ],
      "text/plain": [
       "\u001b[2;36m                   \u001b[0m\u001b[2;36m \u001b[0m\u001b[34mINFO    \u001b[0m Registered line magic \u001b[32m'run_viz'\u001b[0m                                        \u001b]8;id=81724;file:///home/pedro/indicium/sbx_kedro_demand_forecast/venv/lib/python3.10/site-packages/kedro/ipython/__init__.py\u001b\\\u001b[2m__init__.py\u001b[0m\u001b]8;;\u001b\\\u001b[2m:\u001b[0m\u001b]8;id=793757;file:///home/pedro/indicium/sbx_kedro_demand_forecast/venv/lib/python3.10/site-packages/kedro/ipython/__init__.py#126\u001b\\\u001b[2m126\u001b[0m\u001b]8;;\u001b\\\n"
      ]
     },
     "metadata": {},
     "output_type": "display_data"
    }
   ],
   "source": [
    "import matplotlib.pyplot as plt\n",
    "import mlflow\n",
    "import pandas as pd\n",
    "import seaborn as sns\n",
    "import statsforecast\n",
    "\n",
    "from statsmodels.tsa.seasonal import seasonal_decompose, DecomposeResult\n",
    "\n",
    "pd.options.display.float_format = '{:.2f}'.format\n",
    "\n",
    "%reload_kedro"
   ]
  },
  {
   "cell_type": "code",
   "execution_count": 2,
   "id": "f25cd3f9-3c90-4e93-b77c-dfcbdba0620e",
   "metadata": {},
   "outputs": [],
   "source": [
    "# cores\n",
    "\n",
    "# primárias\n",
    "cerulean=\"#0081be\"\n",
    "web_orange=\"#f7a600\"\n",
    "\n",
    "# secundárias\n",
    "port_gore=\"#1a2144\"\n",
    "chambray=\"#333b8f\"\n",
    "sandal=\"#9c8b64\"\n",
    "curious_blue=\"#13a0db\"\n",
    "cornflower=\"#88bce7\"\n",
    "abbey=\"#1b1d1e\"\n",
    "\n",
    "# cinzas\n",
    "neutral_500=\"#878b97\""
   ]
  },
  {
   "cell_type": "markdown",
   "id": "0461fea0-6087-4e18-ba06-b6ec785d9d9c",
   "metadata": {},
   "source": [
    "## Dados"
   ]
  },
  {
   "cell_type": "code",
   "execution_count": 3,
   "id": "413852d5-628e-4601-a8be-b29a383ed2cb",
   "metadata": {},
   "outputs": [
    {
     "data": {
      "text/html": [
       "<pre style=\"white-space:pre;overflow-x:auto;line-height:normal;font-family:Menlo,'DejaVu Sans Mono',consolas,'Courier New',monospace\"><span style=\"color: #7fbfbf; text-decoration-color: #7fbfbf\">[02/16/24 09:48:18] </span><span style=\"color: #000080; text-decoration-color: #000080\">INFO    </span> Loading data from <span style=\"color: #ff8700; text-decoration-color: #ff8700\">sales_train</span> <span style=\"font-weight: bold\">(</span>CSVDataset<span style=\"font-weight: bold\">)</span><span style=\"color: #808000; text-decoration-color: #808000\">...</span>                      <a href=\"file:///home/pedro/indicium/sbx_kedro_demand_forecast/venv/lib/python3.10/site-packages/kedro/io/data_catalog.py\" target=\"_blank\"><span style=\"color: #7f7f7f; text-decoration-color: #7f7f7f\">data_catalog.py</span></a><span style=\"color: #7f7f7f; text-decoration-color: #7f7f7f\">:</span><a href=\"file:///home/pedro/indicium/sbx_kedro_demand_forecast/venv/lib/python3.10/site-packages/kedro/io/data_catalog.py#483\" target=\"_blank\"><span style=\"color: #7f7f7f; text-decoration-color: #7f7f7f\">483</span></a>\n",
       "</pre>\n"
      ],
      "text/plain": [
       "\u001b[2;36m[02/16/24 09:48:18]\u001b[0m\u001b[2;36m \u001b[0m\u001b[34mINFO    \u001b[0m Loading data from \u001b[38;5;208msales_train\u001b[0m \u001b[1m(\u001b[0mCSVDataset\u001b[1m)\u001b[0m\u001b[33m...\u001b[0m                      \u001b]8;id=289973;file:///home/pedro/indicium/sbx_kedro_demand_forecast/venv/lib/python3.10/site-packages/kedro/io/data_catalog.py\u001b\\\u001b[2mdata_catalog.py\u001b[0m\u001b]8;;\u001b\\\u001b[2m:\u001b[0m\u001b]8;id=85397;file:///home/pedro/indicium/sbx_kedro_demand_forecast/venv/lib/python3.10/site-packages/kedro/io/data_catalog.py#483\u001b\\\u001b[2m483\u001b[0m\u001b]8;;\u001b\\\n"
      ]
     },
     "metadata": {},
     "output_type": "display_data"
    },
    {
     "data": {
      "text/html": [
       "<pre style=\"white-space:pre;overflow-x:auto;line-height:normal;font-family:Menlo,'DejaVu Sans Mono',consolas,'Courier New',monospace\"><span style=\"color: #7fbfbf; text-decoration-color: #7fbfbf\">[02/16/24 09:48:31] </span><span style=\"color: #000080; text-decoration-color: #000080\">INFO    </span> Loading data from <span style=\"color: #ff8700; text-decoration-color: #ff8700\">stores</span> <span style=\"font-weight: bold\">(</span>CSVDataset<span style=\"font-weight: bold\">)</span><span style=\"color: #808000; text-decoration-color: #808000\">...</span>                           <a href=\"file:///home/pedro/indicium/sbx_kedro_demand_forecast/venv/lib/python3.10/site-packages/kedro/io/data_catalog.py\" target=\"_blank\"><span style=\"color: #7f7f7f; text-decoration-color: #7f7f7f\">data_catalog.py</span></a><span style=\"color: #7f7f7f; text-decoration-color: #7f7f7f\">:</span><a href=\"file:///home/pedro/indicium/sbx_kedro_demand_forecast/venv/lib/python3.10/site-packages/kedro/io/data_catalog.py#483\" target=\"_blank\"><span style=\"color: #7f7f7f; text-decoration-color: #7f7f7f\">483</span></a>\n",
       "</pre>\n"
      ],
      "text/plain": [
       "\u001b[2;36m[02/16/24 09:48:31]\u001b[0m\u001b[2;36m \u001b[0m\u001b[34mINFO    \u001b[0m Loading data from \u001b[38;5;208mstores\u001b[0m \u001b[1m(\u001b[0mCSVDataset\u001b[1m)\u001b[0m\u001b[33m...\u001b[0m                           \u001b]8;id=463761;file:///home/pedro/indicium/sbx_kedro_demand_forecast/venv/lib/python3.10/site-packages/kedro/io/data_catalog.py\u001b\\\u001b[2mdata_catalog.py\u001b[0m\u001b]8;;\u001b\\\u001b[2m:\u001b[0m\u001b]8;id=306896;file:///home/pedro/indicium/sbx_kedro_demand_forecast/venv/lib/python3.10/site-packages/kedro/io/data_catalog.py#483\u001b\\\u001b[2m483\u001b[0m\u001b]8;;\u001b\\\n"
      ]
     },
     "metadata": {},
     "output_type": "display_data"
    }
   ],
   "source": [
    "train = catalog.load(\"sales_train\")\n",
    "# transactions = catalog.load(\"transactions\")\n",
    "stores = catalog.load(\"stores\")"
   ]
  },
  {
   "cell_type": "code",
   "execution_count": null,
   "id": "31b6ca23-a6be-47d9-a56c-f32b199a392f",
   "metadata": {},
   "outputs": [],
   "source": [
    "train.head()"
   ]
  },
  {
   "cell_type": "code",
   "execution_count": null,
   "id": "a15898b5-5c77-49ec-bf71-8e0ecf4fd422",
   "metadata": {},
   "outputs": [],
   "source": [
    "stores.head()"
   ]
  },
  {
   "cell_type": "code",
   "execution_count": null,
   "id": "923e7bb1-9627-4997-bf0a-cc8732c92ca5",
   "metadata": {},
   "outputs": [],
   "source": [
    "(\n",
    "    train\n",
    "    .merge(stores, on=\"store_nbr\")\n",
    "    .groupby(\"family\")[\"sales\"]\n",
    "    .sum()\n",
    "    .sort_values(ascending=False)\n",
    ")"
   ]
  },
  {
   "cell_type": "markdown",
   "id": "74084ddc-4c0b-4632-a3bc-770db418b04b",
   "metadata": {},
   "source": [
    "Perguntas típicas:\n",
    "\n",
    "* Quanto preciso entregar de Bebidas em Quito?\n",
    "* Qual a expectativa de receita para os próximos 3 meses com Livros? \n",
    "* Qual volume de matéria prima preciso comprar para atender a demanda dos próximos 6 meses? Como isso impacta meu planejamento de estoques?\n",
    "\n",
    "Os resultados de uma previsão de demanda devem:\n",
    "\n",
    "* Ser analisados em termos úteis para as áreas de negócio\n",
    "* Ser o mais acurado possível \n",
    "* Indicar as incertezas envolvidas"
   ]
  },
  {
   "cell_type": "code",
   "execution_count": 4,
   "id": "15900e56-c6e4-4b0b-881c-d3787cff73b7",
   "metadata": {},
   "outputs": [],
   "source": [
    "ts = train.merge(stores, on=\"store_nbr\")"
   ]
  },
  {
   "cell_type": "markdown",
   "id": "b5eedafd-b372-438e-8352-e261e6720a1d",
   "metadata": {
    "tags": []
   },
   "source": [
    "## Séries temporais\n",
    "\n",
    "coleção de observações feitas sequencialmente ao longo do tempo"
   ]
  },
  {
   "cell_type": "code",
   "execution_count": 5,
   "id": "84f239ca-5db1-4cba-b872-d82701185187",
   "metadata": {},
   "outputs": [
    {
     "data": {
      "text/html": [
       "<pre style=\"white-space:pre;overflow-x:auto;line-height:normal;font-family:Menlo,'DejaVu Sans Mono',consolas,'Courier New',monospace\"></pre>\n"
      ],
      "text/plain": []
     },
     "metadata": {},
     "output_type": "display_data"
    },
    {
     "data": {
      "image/png": "[encoded data removed]",
      "text/plain": [
       "\u001b[1m<\u001b[0m\u001b[1;95mFigure\u001b[0m\u001b[39m size 100\u001b[0m\u001b[1;36m0x600\u001b[0m\u001b[39m with \u001b[0m\u001b[1;36m1\u001b[0m\u001b[39m Axes\u001b[0m\u001b[1m>\u001b[0m"
      ]
     },
     "metadata": {},
     "output_type": "display_data"
    }
   ],
   "source": [
    "plt.figure(figsize=(10, 6))\n",
    "\n",
    "sns.set_style(\"whitegrid\", {\"axes.grid\": True, \"grid.linestyle\": \"--\", \"grid.color\": neutral_500, \"axes.axisbelow\": True})\n",
    "sns.lineplot(x='date', y='sales', data=ts.query(\"date > '2017-08-01'\"), errorbar=None, color=cerulean)\n",
    "sns.despine(left=True)\n",
    "\n",
    "plt.title('Vendas')\n",
    "plt.xlabel('Dia')\n",
    "plt.ylabel('Unidades')\n",
    "plt.ylim(0, None)\n",
    "plt.xticks(rotation=45, ha='right')\n",
    "plt.grid(axis='x')\n",
    "\n",
    "plt.show()"
   ]
  },
  {
   "cell_type": "code",
   "execution_count": 6,
   "id": "c5b29150-d6cf-4823-8f26-08c9eb46afe8",
   "metadata": {},
   "outputs": [
    {
     "data": {
      "text/html": [
       "<pre style=\"white-space:pre;overflow-x:auto;line-height:normal;font-family:Menlo,'DejaVu Sans Mono',consolas,'Courier New',monospace\"></pre>\n"
      ],
      "text/plain": []
     },
     "metadata": {},
     "output_type": "display_data"
    },
    {
     "data": {
      "text/html": [
       "<div>\n",
       "<style scoped>\n",
       "    .dataframe tbody tr th:only-of-type {\n",
       "        vertical-align: middle;\n",
       "    }\n",
       "\n",
       "    .dataframe tbody tr th {\n",
       "        vertical-align: top;\n",
       "    }\n",
       "\n",
       "    .dataframe thead th {\n",
       "        text-align: right;\n",
       "    }\n",
       "</style>\n",
       "<table border=\"1\" class=\"dataframe\">\n",
       "  <thead>\n",
       "    <tr style=\"text-align: right;\">\n",
       "      <th></th>\n",
       "      <th>month</th>\n",
       "      <th>sales</th>\n",
       "    </tr>\n",
       "  </thead>\n",
       "  <tbody>\n",
       "    <tr>\n",
       "      <th>0</th>\n",
       "      <td>2013-01-01</td>\n",
       "      <td>10327624.74</td>\n",
       "    </tr>\n",
       "    <tr>\n",
       "      <th>1</th>\n",
       "      <td>2013-02-01</td>\n",
       "      <td>9658959.78</td>\n",
       "    </tr>\n",
       "    <tr>\n",
       "      <th>2</th>\n",
       "      <td>2013-03-01</td>\n",
       "      <td>11428497.04</td>\n",
       "    </tr>\n",
       "    <tr>\n",
       "      <th>3</th>\n",
       "      <td>2013-04-01</td>\n",
       "      <td>10993464.74</td>\n",
       "    </tr>\n",
       "    <tr>\n",
       "      <th>4</th>\n",
       "      <td>2013-05-01</td>\n",
       "      <td>11597704.01</td>\n",
       "    </tr>\n",
       "  </tbody>\n",
       "</table>\n",
       "</div>"
      ],
      "text/plain": [
       "\n",
       "       month       sales\n",
       "\u001b[1;36m0\u001b[0m \u001b[1;36m2013\u001b[0m-\u001b[1;36m01\u001b[0m-\u001b[1;36m01\u001b[0m \u001b[1;36m10327624.74\u001b[0m\n",
       "\u001b[1;36m1\u001b[0m \u001b[1;36m2013\u001b[0m-\u001b[1;36m02\u001b[0m-\u001b[1;36m01\u001b[0m  \u001b[1;36m9658959.78\u001b[0m\n",
       "\u001b[1;36m2\u001b[0m \u001b[1;36m2013\u001b[0m-\u001b[1;36m03\u001b[0m-\u001b[1;36m01\u001b[0m \u001b[1;36m11428497.04\u001b[0m\n",
       "\u001b[1;36m3\u001b[0m \u001b[1;36m2013\u001b[0m-\u001b[1;36m04\u001b[0m-\u001b[1;36m01\u001b[0m \u001b[1;36m10993464.74\u001b[0m\n",
       "\u001b[1;36m4\u001b[0m \u001b[1;36m2013\u001b[0m-\u001b[1;36m05\u001b[0m-\u001b[1;36m01\u001b[0m \u001b[1;36m11597704.01\u001b[0m"
      ]
     },
     "execution_count": 6,
     "metadata": {},
     "output_type": "execute_result"
    }
   ],
   "source": [
    "ts[\"month\"] = pd.to_datetime(ts[\"date\"]).dt.to_period('M').dt.to_timestamp()\n",
    "\n",
    "monthly_sales = (\n",
    "    ts\n",
    "    .groupby(\"month\")[\"sales\"].sum()\n",
    "    .reset_index()\n",
    ")\n",
    "\n",
    "monthly_sales.head()"
   ]
  },
  {
   "cell_type": "code",
   "execution_count": null,
   "id": "19fb3ee2-baf9-4e16-b26f-3801b3b8eb2f",
   "metadata": {},
   "outputs": [],
   "source": [
    "# Decomposição dos \n",
    "\n",
    "result = seasonal_decompose(monthly_sales.set_index('month')[\"sales\"], model='additive', period=12)"
   ]
  },
  {
   "cell_type": "code",
   "execution_count": null,
   "id": "8bed1392-5ac8-4ff2-a846-517782127d27",
   "metadata": {},
   "outputs": [],
   "source": [
    "def seasonal_decomposition_plots(data: pd.DataFrame, seasonal_decomposition: DecomposeResult):\n",
    "    \n",
    "    # Plot the original time series, trend, seasonality, and residual\n",
    "    plt.figure(figsize=(12, 8))\n",
    "    plt.subplot(4, 1, 1)\n",
    "    plt.plot(data['sales'], label='Original')\n",
    "    plt.legend(loc='upper left')\n",
    "\n",
    "    plt.subplot(4, 1, 2)\n",
    "    plt.plot(seasonal_decomposition.trend, label='Trend')\n",
    "    plt.legend(loc='upper left')\n",
    "\n",
    "    plt.subplot(4, 1, 3)\n",
    "    plt.plot(seasonal_decomposition.seasonal, label='Seasonal')\n",
    "    plt.legend(loc='upper left')\n",
    "\n",
    "    plt.subplot(4, 1, 4)\n",
    "    plt.plot(seasonal_decomposition.resid, label='Residual')\n",
    "    plt.legend(loc='upper left')\n",
    "\n",
    "    plt.tight_layout()\n",
    "    \n",
    "    return plt.show()"
   ]
  },
  {
   "cell_type": "markdown",
   "id": "bdfb1fb1-1ebe-41fe-9899-7a05b4aefae1",
   "metadata": {},
   "source": [
    "* Tendência: Componente que captura mudanças sistemáticas e persistentes ao longo do tempo\n",
    "* Sazonalidade: flutuações periódicas ou padrões que ocorrem em intervalos regulares em uma série temporal\n",
    "* Residual: variações aleatórias / ruídos"
   ]
  },
  {
   "cell_type": "code",
   "execution_count": null,
   "id": "6a3e50de-dd5d-4f6a-a656-751be85cf2eb",
   "metadata": {},
   "outputs": [],
   "source": [
    "seasonal_decomposition_plots(data=monthly_sales, seasonal_decomposition=result)"
   ]
  },
  {
   "cell_type": "markdown",
   "id": "10cf26ea-8932-429e-ad9b-08421765fc9c",
   "metadata": {},
   "source": [
    "### Vamos prever! "
   ]
  },
  {
   "cell_type": "code",
   "execution_count": null,
   "id": "62f9505c-af47-44cc-981f-e39355bfca73",
   "metadata": {},
   "outputs": [],
   "source": [
    "monthly_sales.head()"
   ]
  },
  {
   "cell_type": "code",
   "execution_count": 7,
   "id": "459f1b7f-14eb-4d5f-b79a-dcb59ab2ea6b",
   "metadata": {},
   "outputs": [],
   "source": [
    "from statsforecast import StatsForecast\n",
    "from statsforecast.models import AutoARIMA, AutoETS, Naive, SeasonalNaive\n",
    "\n",
    "# https://github.com/Nixtla/statsforecast"
   ]
  },
  {
   "cell_type": "code",
   "execution_count": 8,
   "id": "dec4a64d-f95c-420b-a350-b985f053f1e4",
   "metadata": {},
   "outputs": [],
   "source": [
    "monthly_sales[\"unique_id\"] = \"total\"\n",
    "monthly_sales=monthly_sales.rename(columns={\"month\": \"ds\", \"sales\": \"y\"})"
   ]
  },
  {
   "cell_type": "code",
   "execution_count": null,
   "id": "1be65f57-919e-43c7-8a6e-e6641eec82ef",
   "metadata": {},
   "outputs": [],
   "source": [
    "Y_test_df = monthly_sales.tail(8)\n",
    "Y_train_df = monthly_sales.drop(Y_test_df.index)"
   ]
  },
  {
   "cell_type": "code",
   "execution_count": null,
   "id": "c9b462f0-23a4-41c4-bc13-7831a25eba53",
   "metadata": {},
   "outputs": [],
   "source": [
    "sf = StatsForecast(\n",
    "    models = [AutoARIMA(season_length = 12)],\n",
    "    freq = 'MS'\n",
    ")\n",
    "\n",
    "sf.fit(Y_train_df)\n",
    "\n",
    "(predictions := sf.predict(h=12, level=[95]))"
   ]
  },
  {
   "cell_type": "code",
   "execution_count": null,
   "id": "aa94e58c-97d3-45fc-9416-88d01c849609",
   "metadata": {},
   "outputs": [],
   "source": [
    "sf.plot(Y_train_df, predictions[[\"ds\", \"AutoARIMA\"]], level=[95])"
   ]
  },
  {
   "cell_type": "code",
   "execution_count": null,
   "id": "137c1e10-e982-4f83-89ca-38a810589732",
   "metadata": {},
   "outputs": [],
   "source": [
    "(predictions := predictions.merge(Y_test_df, on=\"ds\"))"
   ]
  },
  {
   "cell_type": "code",
   "execution_count": null,
   "id": "f2354ea0-992a-4aba-86e3-63f0e78b429d",
   "metadata": {},
   "outputs": [],
   "source": [
    "predictions"
   ]
  },
  {
   "cell_type": "code",
   "execution_count": null,
   "id": "03d671da-8831-4a88-8118-5bd44d385513",
   "metadata": {},
   "outputs": [],
   "source": [
    "predictions[\"abs_pct_error\"] = abs(predictions[\"AutoARIMA\"]-predictions[\"y\"])/predictions[\"y\"]\n",
    "predictions"
   ]
  },
  {
   "cell_type": "code",
   "execution_count": null,
   "id": "aa3c8671-b12b-4150-a190-aca20d96ac9d",
   "metadata": {},
   "outputs": [],
   "source": [
    "from sklearn.metrics import mean_absolute_error, mean_squared_error, mean_absolute_percentage_error\n",
    "\n",
    "(\n",
    "    mean_absolute_error(y_true=predictions[\"y\"], y_pred=predictions[\"AutoARIMA\"]), \n",
    "    mean_absolute_percentage_error(y_true=predictions[\"y\"], y_pred=predictions[\"AutoARIMA\"]),\n",
    "    mean_absolute_percentage_error(y_true=predictions[\"y\"], y_pred=predictions[\"AutoARIMA\"], sample_weight=predictions[\"y\"]),\n",
    ")"
   ]
  },
  {
   "cell_type": "markdown",
   "id": "641005b5-0134-4547-ab1c-dcabdb7afee9",
   "metadata": {},
   "source": [
    "## Séries hierárquicas"
   ]
  },
  {
   "cell_type": "markdown",
   "id": "5962f280-8aad-49da-9c42-090e5b985781",
   "metadata": {},
   "source": [
    "Valores agregados são úteis a nível estratégico, mas não ajudam a responder perguntas essenciais a nível tático. **Quais** são os produtos que devem ser vendidos e **onde**? "
   ]
  },
  {
   "cell_type": "code",
   "execution_count": null,
   "id": "11301fd6-50cf-4b5e-8922-1d3e13921ec5",
   "metadata": {},
   "outputs": [],
   "source": [
    "ts.head()"
   ]
  },
  {
   "cell_type": "code",
   "execution_count": null,
   "id": "5ef9d34d-1599-4120-8560-9758ff857bd9",
   "metadata": {},
   "outputs": [],
   "source": [
    "len(ts.family.unique()) * len(ts.store_nbr.unique())"
   ]
  },
  {
   "cell_type": "code",
   "execution_count": 9,
   "id": "5190d472-ea34-4584-9367-6babba79233f",
   "metadata": {},
   "outputs": [
    {
     "data": {
      "text/html": [
       "<pre style=\"white-space:pre;overflow-x:auto;line-height:normal;font-family:Menlo,'DejaVu Sans Mono',consolas,'Courier New',monospace\"></pre>\n"
      ],
      "text/plain": []
     },
     "metadata": {},
     "output_type": "display_data"
    },
    {
     "data": {
      "text/html": [
       "<div>\n",
       "<style scoped>\n",
       "    .dataframe tbody tr th:only-of-type {\n",
       "        vertical-align: middle;\n",
       "    }\n",
       "\n",
       "    .dataframe tbody tr th {\n",
       "        vertical-align: top;\n",
       "    }\n",
       "\n",
       "    .dataframe thead th {\n",
       "        text-align: right;\n",
       "    }\n",
       "</style>\n",
       "<table border=\"1\" class=\"dataframe\">\n",
       "  <thead>\n",
       "    <tr style=\"text-align: right;\">\n",
       "      <th></th>\n",
       "      <th>ds</th>\n",
       "      <th>store_nbr</th>\n",
       "      <th>family</th>\n",
       "      <th>city</th>\n",
       "      <th>state</th>\n",
       "      <th>y</th>\n",
       "    </tr>\n",
       "  </thead>\n",
       "  <tbody>\n",
       "    <tr>\n",
       "      <th>0</th>\n",
       "      <td>2013-01-01</td>\n",
       "      <td>1</td>\n",
       "      <td>AUTOMOTIVE</td>\n",
       "      <td>Quito</td>\n",
       "      <td>Pichincha</td>\n",
       "      <td>68.00</td>\n",
       "    </tr>\n",
       "    <tr>\n",
       "      <th>1</th>\n",
       "      <td>2013-01-01</td>\n",
       "      <td>1</td>\n",
       "      <td>BABY CARE</td>\n",
       "      <td>Quito</td>\n",
       "      <td>Pichincha</td>\n",
       "      <td>0.00</td>\n",
       "    </tr>\n",
       "    <tr>\n",
       "      <th>2</th>\n",
       "      <td>2013-01-01</td>\n",
       "      <td>1</td>\n",
       "      <td>BEAUTY</td>\n",
       "      <td>Quito</td>\n",
       "      <td>Pichincha</td>\n",
       "      <td>45.00</td>\n",
       "    </tr>\n",
       "    <tr>\n",
       "      <th>3</th>\n",
       "      <td>2013-01-01</td>\n",
       "      <td>1</td>\n",
       "      <td>BEVERAGES</td>\n",
       "      <td>Quito</td>\n",
       "      <td>Pichincha</td>\n",
       "      <td>28777.00</td>\n",
       "    </tr>\n",
       "    <tr>\n",
       "      <th>4</th>\n",
       "      <td>2013-01-01</td>\n",
       "      <td>1</td>\n",
       "      <td>BOOKS</td>\n",
       "      <td>Quito</td>\n",
       "      <td>Pichincha</td>\n",
       "      <td>0.00</td>\n",
       "    </tr>\n",
       "  </tbody>\n",
       "</table>\n",
       "</div>"
      ],
      "text/plain": [
       "\n",
       "          ds  store_nbr      family   city      state        y\n",
       "\u001b[1;36m0\u001b[0m \u001b[1;36m2013\u001b[0m-\u001b[1;36m01\u001b[0m-\u001b[1;36m01\u001b[0m          \u001b[1;36m1\u001b[0m  AUTOMOTIVE  Quito  Pichincha    \u001b[1;36m68.00\u001b[0m\n",
       "\u001b[1;36m1\u001b[0m \u001b[1;36m2013\u001b[0m-\u001b[1;36m01\u001b[0m-\u001b[1;36m01\u001b[0m          \u001b[1;36m1\u001b[0m   BABY CARE  Quito  Pichincha     \u001b[1;36m0.00\u001b[0m\n",
       "\u001b[1;36m2\u001b[0m \u001b[1;36m2013\u001b[0m-\u001b[1;36m01\u001b[0m-\u001b[1;36m01\u001b[0m          \u001b[1;36m1\u001b[0m      BEAUTY  Quito  Pichincha    \u001b[1;36m45.00\u001b[0m\n",
       "\u001b[1;36m3\u001b[0m \u001b[1;36m2013\u001b[0m-\u001b[1;36m01\u001b[0m-\u001b[1;36m01\u001b[0m          \u001b[1;36m1\u001b[0m   BEVERAGES  Quito  Pichincha \u001b[1;36m28777.00\u001b[0m\n",
       "\u001b[1;36m4\u001b[0m \u001b[1;36m2013\u001b[0m-\u001b[1;36m01\u001b[0m-\u001b[1;36m01\u001b[0m          \u001b[1;36m1\u001b[0m       BOOKS  Quito  Pichincha     \u001b[1;36m0.00\u001b[0m"
      ]
     },
     "execution_count": 9,
     "metadata": {},
     "output_type": "execute_result"
    }
   ],
   "source": [
    "hts = (\n",
    "    ts\n",
    "    .groupby([\"month\", \"store_nbr\", \"family\", \"city\", \"state\"])[\"sales\"].sum()\n",
    "    .reset_index()\n",
    "    .rename(columns={\"month\": \"ds\", \"sales\": \"y\"})\n",
    ")\n",
    "\n",
    "hts.head()"
   ]
  },
  {
   "cell_type": "code",
   "execution_count": null,
   "id": "cc236006-0514-4c03-8022-62b26d7a362b",
   "metadata": {
    "tags": []
   },
   "outputs": [],
   "source": [
    "(beverages_in_quito := hts.query(\"family == 'BEVERAGES' and city == 'Quito' and store_nbr == 2\"))"
   ]
  },
  {
   "cell_type": "code",
   "execution_count": null,
   "id": "4572880c-4fb9-45a6-9973-380bb8f1138a",
   "metadata": {
    "tags": []
   },
   "outputs": [],
   "source": [
    "decompose_beverages_in_quito = seasonal_decompose(beverages_in_quito.set_index('month')[\"sales\"], model='additive', period=12)\n",
    "seasonal_decomposition_plots(data=beverages_in_quito, seasonal_decomposition=decompose_beverages_in_quito)"
   ]
  },
  {
   "cell_type": "markdown",
   "id": "e975fd48-c177-445f-b48f-29c17313362c",
   "metadata": {},
   "source": [
    "Como lidar com a combinação de múltiplas séries? -> https://wiki.indicium.tech/en/dados/data-science/counteudo-tecnico/previsao-hierarquica"
   ]
  },
  {
   "cell_type": "code",
   "execution_count": 10,
   "id": "4acc914f-6358-43b2-8c95-62b98789d2ad",
   "metadata": {},
   "outputs": [],
   "source": [
    "from hierarchicalforecast.core import HierarchicalReconciliation\n",
    "from hierarchicalforecast.methods import BottomUp, TopDown, MiddleOut"
   ]
  },
  {
   "cell_type": "code",
   "execution_count": 11,
   "id": "af0c2f48-12b7-423e-a677-fff9e8348110",
   "metadata": {},
   "outputs": [],
   "source": [
    "hierarchies = [\n",
    "    ['family'],\n",
    "    ['state'],\n",
    "    ['family', 'state'],\n",
    "    ['family', 'state', 'city'],\n",
    "    ['family', 'state', 'city', 'store_nbr'],\n",
    "]"
   ]
  },
  {
   "cell_type": "code",
   "execution_count": 12,
   "id": "3fb2ddc1-5884-47bd-8ce3-e1e1a1b5f86c",
   "metadata": {},
   "outputs": [
    {
     "data": {
      "text/html": [
       "<pre style=\"white-space:pre;overflow-x:auto;line-height:normal;font-family:Menlo,'DejaVu Sans Mono',consolas,'Courier New',monospace\"><span style=\"color: #7fbfbf; text-decoration-color: #7fbfbf\">[02/16/24 09:50:07] </span><span style=\"color: #800000; text-decoration-color: #800000\">WARNING </span> <span style=\"color: #800080; text-decoration-color: #800080\">/home/pedro/indicium/sbx_kedro_demand_forecast/venv/lib/python3.10/sit</span> <a href=\"file:///usr/lib/python3.10/warnings.py\" target=\"_blank\"><span style=\"color: #7f7f7f; text-decoration-color: #7f7f7f\">warnings.py</span></a><span style=\"color: #7f7f7f; text-decoration-color: #7f7f7f\">:</span><a href=\"file:///usr/lib/python3.10/warnings.py#109\" target=\"_blank\"><span style=\"color: #7f7f7f; text-decoration-color: #7f7f7f\">109</span></a>\n",
       "<span style=\"color: #7fbfbf; text-decoration-color: #7fbfbf\">                    </span>         <span style=\"color: #800080; text-decoration-color: #800080\">e-packages/sklearn/preprocessing/</span><span style=\"color: #ff00ff; text-decoration-color: #ff00ff\">_encoders.py</span>:<span style=\"color: #008080; text-decoration-color: #008080; font-weight: bold\">868</span>: FutureWarning:      <span style=\"color: #7f7f7f; text-decoration-color: #7f7f7f\">               </span>\n",
       "<span style=\"color: #7fbfbf; text-decoration-color: #7fbfbf\">                    </span>         `sparse` was renamed to `sparse_output` in version <span style=\"color: #008080; text-decoration-color: #008080; font-weight: bold\">1.2</span> and will be     <span style=\"color: #7f7f7f; text-decoration-color: #7f7f7f\">               </span>\n",
       "<span style=\"color: #7fbfbf; text-decoration-color: #7fbfbf\">                    </span>         removed in <span style=\"color: #008080; text-decoration-color: #008080; font-weight: bold\">1.4</span>. `sparse_output` is ignored unless you leave `sparse`   <span style=\"color: #7f7f7f; text-decoration-color: #7f7f7f\">               </span>\n",
       "<span style=\"color: #7fbfbf; text-decoration-color: #7fbfbf\">                    </span>         to its default value.                                                  <span style=\"color: #7f7f7f; text-decoration-color: #7f7f7f\">               </span>\n",
       "<span style=\"color: #7fbfbf; text-decoration-color: #7fbfbf\">                    </span>           <span style=\"color: #800080; text-decoration-color: #800080; font-weight: bold\">warnings.warn</span><span style=\"font-weight: bold\">(</span>                                                       <span style=\"color: #7f7f7f; text-decoration-color: #7f7f7f\">               </span>\n",
       "<span style=\"color: #7fbfbf; text-decoration-color: #7fbfbf\">                    </span>                                                                                <span style=\"color: #7f7f7f; text-decoration-color: #7f7f7f\">               </span>\n",
       "</pre>\n"
      ],
      "text/plain": [
       "\u001b[2;36m[02/16/24 09:50:07]\u001b[0m\u001b[2;36m \u001b[0m\u001b[31mWARNING \u001b[0m \u001b[35m/home/pedro/indicium/sbx_kedro_demand_forecast/venv/lib/python3.10/sit\u001b[0m \u001b]8;id=609454;file:///usr/lib/python3.10/warnings.py\u001b\\\u001b[2mwarnings.py\u001b[0m\u001b]8;;\u001b\\\u001b[2m:\u001b[0m\u001b]8;id=249139;file:///usr/lib/python3.10/warnings.py#109\u001b\\\u001b[2m109\u001b[0m\u001b]8;;\u001b\\\n",
       "\u001b[2;36m                    \u001b[0m         \u001b[35me-packages/sklearn/preprocessing/\u001b[0m\u001b[95m_encoders.py\u001b[0m:\u001b[1;36m868\u001b[0m: FutureWarning:      \u001b[2m               \u001b[0m\n",
       "\u001b[2;36m                    \u001b[0m         `sparse` was renamed to `sparse_output` in version \u001b[1;36m1.2\u001b[0m and will be     \u001b[2m               \u001b[0m\n",
       "\u001b[2;36m                    \u001b[0m         removed in \u001b[1;36m1.4\u001b[0m. `sparse_output` is ignored unless you leave `sparse`   \u001b[2m               \u001b[0m\n",
       "\u001b[2;36m                    \u001b[0m         to its default value.                                                  \u001b[2m               \u001b[0m\n",
       "\u001b[2;36m                    \u001b[0m           \u001b[1;35mwarnings.warn\u001b[0m\u001b[1m(\u001b[0m                                                       \u001b[2m               \u001b[0m\n",
       "\u001b[2;36m                    \u001b[0m                                                                                \u001b[2m               \u001b[0m\n"
      ]
     },
     "metadata": {},
     "output_type": "display_data"
    }
   ],
   "source": [
    "from hierarchicalforecast.utils import aggregate\n",
    "\n",
    "# hts[\"ds\"] = hts[\"ds\"].astype(str) # lib \n",
    "hts[\"store_nbr\"] = hts[\"store_nbr\"].astype(str) # lib \n",
    "\n",
    "Y_df, S_df, tags = aggregate(hts, hierarchies)"
   ]
  },
  {
   "cell_type": "code",
   "execution_count": null,
   "id": "de3bfb83-d5a8-44dd-81ff-e5984ed1f84e",
   "metadata": {},
   "outputs": [],
   "source": [
    "Y_df.index.value_counts()"
   ]
  },
  {
   "cell_type": "code",
   "execution_count": 13,
   "id": "0d901edd-4b23-4d73-96ae-5092062e7966",
   "metadata": {},
   "outputs": [
    {
     "data": {
      "text/html": [
       "<pre style=\"white-space:pre;overflow-x:auto;line-height:normal;font-family:Menlo,'DejaVu Sans Mono',consolas,'Courier New',monospace\"></pre>\n"
      ],
      "text/plain": []
     },
     "metadata": {},
     "output_type": "display_data"
    },
    {
     "data": {
      "text/plain": [
       "\u001b[1;35mdict_keys\u001b[0m\u001b[1m(\u001b[0m\u001b[1m[\u001b[0m\u001b[32m'family'\u001b[0m, \u001b[32m'state'\u001b[0m, \u001b[32m'family/state'\u001b[0m, \u001b[32m'family/state/city'\u001b[0m, \u001b[32m'family/state/city/store_nbr'\u001b[0m\u001b[1m]\u001b[0m\u001b[1m)\u001b[0m"
      ]
     },
     "execution_count": 13,
     "metadata": {},
     "output_type": "execute_result"
    }
   ],
   "source": [
    "tags.keys()"
   ]
  },
  {
   "cell_type": "code",
   "execution_count": 14,
   "id": "48e1225a-21ab-4f68-a14b-8581b2e86b0f",
   "metadata": {},
   "outputs": [],
   "source": [
    "# split de dados \n",
    "Y_df = Y_df.reset_index()\n",
    "Y_test_df  = Y_df.groupby('unique_id').tail(7)\n",
    "Y_train_df = Y_df.drop(Y_test_df.index)"
   ]
  },
  {
   "cell_type": "code",
   "execution_count": 15,
   "id": "61a4c1e3-53cb-43de-9d21-5355a7a4391f",
   "metadata": {},
   "outputs": [],
   "source": [
    "# treinamento\n",
    "sf = StatsForecast(\n",
    "    df=Y_train_df,\n",
    "    models=[AutoETS(season_length=12), Naive(), SeasonalNaive(season_length=12), ], #AutoARIMA(season_length=12),\n",
    "    freq=\"MS\",\n",
    ")"
   ]
  },
  {
   "cell_type": "code",
   "execution_count": 16,
   "id": "86afa854-c15e-4b40-ac0b-c874871bb04b",
   "metadata": {
    "tags": []
   },
   "outputs": [],
   "source": [
    "Y_hat_df = sf.forecast(h=7, fitted=True)"
   ]
  },
  {
   "cell_type": "code",
   "execution_count": 17,
   "id": "b24cb465-850a-434e-b547-6ba2b4350473",
   "metadata": {},
   "outputs": [
    {
     "data": {
      "text/html": [
       "<pre style=\"white-space:pre;overflow-x:auto;line-height:normal;font-family:Menlo,'DejaVu Sans Mono',consolas,'Courier New',monospace\"></pre>\n"
      ],
      "text/plain": []
     },
     "metadata": {},
     "output_type": "display_data"
    },
    {
     "data": {
      "text/html": [
       "<div>\n",
       "<style scoped>\n",
       "    .dataframe tbody tr th:only-of-type {\n",
       "        vertical-align: middle;\n",
       "    }\n",
       "\n",
       "    .dataframe tbody tr th {\n",
       "        vertical-align: top;\n",
       "    }\n",
       "\n",
       "    .dataframe thead th {\n",
       "        text-align: right;\n",
       "    }\n",
       "</style>\n",
       "<table border=\"1\" class=\"dataframe\">\n",
       "  <thead>\n",
       "    <tr style=\"text-align: right;\">\n",
       "      <th></th>\n",
       "      <th>ds</th>\n",
       "      <th>AutoETS</th>\n",
       "      <th>Naive</th>\n",
       "      <th>SeasonalNaive</th>\n",
       "    </tr>\n",
       "    <tr>\n",
       "      <th>unique_id</th>\n",
       "      <th></th>\n",
       "      <th></th>\n",
       "      <th></th>\n",
       "      <th></th>\n",
       "    </tr>\n",
       "  </thead>\n",
       "  <tbody>\n",
       "    <tr>\n",
       "      <th>AUTOMOTIVE</th>\n",
       "      <td>2017-02-01</td>\n",
       "      <td>11254.24</td>\n",
       "      <td>11134.00</td>\n",
       "      <td>12185.00</td>\n",
       "    </tr>\n",
       "    <tr>\n",
       "      <th>AUTOMOTIVE</th>\n",
       "      <td>2017-03-01</td>\n",
       "      <td>11254.24</td>\n",
       "      <td>11134.00</td>\n",
       "      <td>12058.00</td>\n",
       "    </tr>\n",
       "    <tr>\n",
       "      <th>AUTOMOTIVE</th>\n",
       "      <td>2017-04-01</td>\n",
       "      <td>11254.24</td>\n",
       "      <td>11134.00</td>\n",
       "      <td>11631.00</td>\n",
       "    </tr>\n",
       "    <tr>\n",
       "      <th>AUTOMOTIVE</th>\n",
       "      <td>2017-05-01</td>\n",
       "      <td>11254.24</td>\n",
       "      <td>11134.00</td>\n",
       "      <td>11839.00</td>\n",
       "    </tr>\n",
       "    <tr>\n",
       "      <th>AUTOMOTIVE</th>\n",
       "      <td>2017-06-01</td>\n",
       "      <td>11254.24</td>\n",
       "      <td>11134.00</td>\n",
       "      <td>9936.00</td>\n",
       "    </tr>\n",
       "  </tbody>\n",
       "</table>\n",
       "</div>"
      ],
      "text/plain": [
       "\n",
       "                   ds  AutoETS    Naive  SeasonalNaive\n",
       "unique_id                                             \n",
       "AUTOMOTIVE \u001b[1;36m2017\u001b[0m-\u001b[1;36m02\u001b[0m-\u001b[1;36m01\u001b[0m \u001b[1;36m11254.24\u001b[0m \u001b[1;36m11134.00\u001b[0m       \u001b[1;36m12185.00\u001b[0m\n",
       "AUTOMOTIVE \u001b[1;36m2017\u001b[0m-\u001b[1;36m03\u001b[0m-\u001b[1;36m01\u001b[0m \u001b[1;36m11254.24\u001b[0m \u001b[1;36m11134.00\u001b[0m       \u001b[1;36m12058.00\u001b[0m\n",
       "AUTOMOTIVE \u001b[1;36m2017\u001b[0m-\u001b[1;36m04\u001b[0m-\u001b[1;36m01\u001b[0m \u001b[1;36m11254.24\u001b[0m \u001b[1;36m11134.00\u001b[0m       \u001b[1;36m11631.00\u001b[0m\n",
       "AUTOMOTIVE \u001b[1;36m2017\u001b[0m-\u001b[1;36m05\u001b[0m-\u001b[1;36m01\u001b[0m \u001b[1;36m11254.24\u001b[0m \u001b[1;36m11134.00\u001b[0m       \u001b[1;36m11839.00\u001b[0m\n",
       "AUTOMOTIVE \u001b[1;36m2017\u001b[0m-\u001b[1;36m06\u001b[0m-\u001b[1;36m01\u001b[0m \u001b[1;36m11254.24\u001b[0m \u001b[1;36m11134.00\u001b[0m        \u001b[1;36m9936.00\u001b[0m"
      ]
     },
     "execution_count": 17,
     "metadata": {},
     "output_type": "execute_result"
    }
   ],
   "source": [
    "Y_hat_df.head()"
   ]
  },
  {
   "cell_type": "code",
   "execution_count": 18,
   "id": "dedc143c-10f7-4d5d-ae83-788ca07d0bb8",
   "metadata": {},
   "outputs": [
    {
     "data": {
      "text/html": [
       "<pre style=\"white-space:pre;overflow-x:auto;line-height:normal;font-family:Menlo,'DejaVu Sans Mono',consolas,'Courier New',monospace\"></pre>\n"
      ],
      "text/plain": []
     },
     "metadata": {},
     "output_type": "display_data"
    },
    {
     "data": {
      "text/html": [
       "<div>\n",
       "<style scoped>\n",
       "    .dataframe tbody tr th:only-of-type {\n",
       "        vertical-align: middle;\n",
       "    }\n",
       "\n",
       "    .dataframe tbody tr th {\n",
       "        vertical-align: top;\n",
       "    }\n",
       "\n",
       "    .dataframe thead th {\n",
       "        text-align: right;\n",
       "    }\n",
       "</style>\n",
       "<table border=\"1\" class=\"dataframe\">\n",
       "  <thead>\n",
       "    <tr style=\"text-align: right;\">\n",
       "      <th></th>\n",
       "      <th>unique_id</th>\n",
       "      <th>ds</th>\n",
       "      <th>y</th>\n",
       "    </tr>\n",
       "  </thead>\n",
       "  <tbody>\n",
       "    <tr>\n",
       "      <th>49</th>\n",
       "      <td>AUTOMOTIVE</td>\n",
       "      <td>2017-02-01</td>\n",
       "      <td>11936.00</td>\n",
       "    </tr>\n",
       "    <tr>\n",
       "      <th>50</th>\n",
       "      <td>AUTOMOTIVE</td>\n",
       "      <td>2017-03-01</td>\n",
       "      <td>12794.00</td>\n",
       "    </tr>\n",
       "    <tr>\n",
       "      <th>51</th>\n",
       "      <td>AUTOMOTIVE</td>\n",
       "      <td>2017-04-01</td>\n",
       "      <td>13169.00</td>\n",
       "    </tr>\n",
       "    <tr>\n",
       "      <th>52</th>\n",
       "      <td>AUTOMOTIVE</td>\n",
       "      <td>2017-05-01</td>\n",
       "      <td>11818.00</td>\n",
       "    </tr>\n",
       "    <tr>\n",
       "      <th>53</th>\n",
       "      <td>AUTOMOTIVE</td>\n",
       "      <td>2017-06-01</td>\n",
       "      <td>11956.00</td>\n",
       "    </tr>\n",
       "  </tbody>\n",
       "</table>\n",
       "</div>"
      ],
      "text/plain": [
       "\n",
       "     unique_id         ds        y\n",
       "\u001b[1;36m49\u001b[0m  AUTOMOTIVE \u001b[1;36m2017\u001b[0m-\u001b[1;36m02\u001b[0m-\u001b[1;36m01\u001b[0m \u001b[1;36m11936.00\u001b[0m\n",
       "\u001b[1;36m50\u001b[0m  AUTOMOTIVE \u001b[1;36m2017\u001b[0m-\u001b[1;36m03\u001b[0m-\u001b[1;36m01\u001b[0m \u001b[1;36m12794.00\u001b[0m\n",
       "\u001b[1;36m51\u001b[0m  AUTOMOTIVE \u001b[1;36m2017\u001b[0m-\u001b[1;36m04\u001b[0m-\u001b[1;36m01\u001b[0m \u001b[1;36m13169.00\u001b[0m\n",
       "\u001b[1;36m52\u001b[0m  AUTOMOTIVE \u001b[1;36m2017\u001b[0m-\u001b[1;36m05\u001b[0m-\u001b[1;36m01\u001b[0m \u001b[1;36m11818.00\u001b[0m\n",
       "\u001b[1;36m53\u001b[0m  AUTOMOTIVE \u001b[1;36m2017\u001b[0m-\u001b[1;36m06\u001b[0m-\u001b[1;36m01\u001b[0m \u001b[1;36m11956.00\u001b[0m"
      ]
     },
     "execution_count": 18,
     "metadata": {},
     "output_type": "execute_result"
    }
   ],
   "source": [
    "Y_test_df.head()"
   ]
  },
  {
   "cell_type": "code",
   "execution_count": 19,
   "id": "38043192-4126-42ef-96dc-f701d79bfb81",
   "metadata": {},
   "outputs": [
    {
     "data": {
      "text/html": [
       "<pre style=\"white-space:pre;overflow-x:auto;line-height:normal;font-family:Menlo,'DejaVu Sans Mono',consolas,'Courier New',monospace\"></pre>\n"
      ],
      "text/plain": []
     },
     "metadata": {},
     "output_type": "display_data"
    },
    {
     "data": {
      "text/html": [
       "<div>\n",
       "<style scoped>\n",
       "    .dataframe tbody tr th:only-of-type {\n",
       "        vertical-align: middle;\n",
       "    }\n",
       "\n",
       "    .dataframe tbody tr th {\n",
       "        vertical-align: top;\n",
       "    }\n",
       "\n",
       "    .dataframe thead th {\n",
       "        text-align: right;\n",
       "    }\n",
       "</style>\n",
       "<table border=\"1\" class=\"dataframe\">\n",
       "  <thead>\n",
       "    <tr style=\"text-align: right;\">\n",
       "      <th></th>\n",
       "      <th>ds</th>\n",
       "      <th>AutoETS</th>\n",
       "      <th>Naive</th>\n",
       "      <th>SeasonalNaive</th>\n",
       "    </tr>\n",
       "    <tr>\n",
       "      <th>unique_id</th>\n",
       "      <th></th>\n",
       "      <th></th>\n",
       "      <th></th>\n",
       "      <th></th>\n",
       "    </tr>\n",
       "  </thead>\n",
       "  <tbody>\n",
       "    <tr>\n",
       "      <th>AUTOMOTIVE</th>\n",
       "      <td>2017-02-01</td>\n",
       "      <td>11254.24</td>\n",
       "      <td>11134.00</td>\n",
       "      <td>12185.00</td>\n",
       "    </tr>\n",
       "    <tr>\n",
       "      <th>AUTOMOTIVE</th>\n",
       "      <td>2017-03-01</td>\n",
       "      <td>11254.24</td>\n",
       "      <td>11134.00</td>\n",
       "      <td>12058.00</td>\n",
       "    </tr>\n",
       "    <tr>\n",
       "      <th>AUTOMOTIVE</th>\n",
       "      <td>2017-04-01</td>\n",
       "      <td>11254.24</td>\n",
       "      <td>11134.00</td>\n",
       "      <td>11631.00</td>\n",
       "    </tr>\n",
       "    <tr>\n",
       "      <th>AUTOMOTIVE</th>\n",
       "      <td>2017-05-01</td>\n",
       "      <td>11254.24</td>\n",
       "      <td>11134.00</td>\n",
       "      <td>11839.00</td>\n",
       "    </tr>\n",
       "    <tr>\n",
       "      <th>AUTOMOTIVE</th>\n",
       "      <td>2017-06-01</td>\n",
       "      <td>11254.24</td>\n",
       "      <td>11134.00</td>\n",
       "      <td>9936.00</td>\n",
       "    </tr>\n",
       "    <tr>\n",
       "      <th>...</th>\n",
       "      <td>...</td>\n",
       "      <td>...</td>\n",
       "      <td>...</td>\n",
       "      <td>...</td>\n",
       "    </tr>\n",
       "    <tr>\n",
       "      <th>Tungurahua</th>\n",
       "      <td>2017-04-01</td>\n",
       "      <td>945676.12</td>\n",
       "      <td>943858.31</td>\n",
       "      <td>853938.62</td>\n",
       "    </tr>\n",
       "    <tr>\n",
       "      <th>Tungurahua</th>\n",
       "      <td>2017-05-01</td>\n",
       "      <td>954666.00</td>\n",
       "      <td>943858.31</td>\n",
       "      <td>847921.69</td>\n",
       "    </tr>\n",
       "    <tr>\n",
       "      <th>Tungurahua</th>\n",
       "      <td>2017-06-01</td>\n",
       "      <td>963655.88</td>\n",
       "      <td>943858.31</td>\n",
       "      <td>759813.69</td>\n",
       "    </tr>\n",
       "    <tr>\n",
       "      <th>Tungurahua</th>\n",
       "      <td>2017-07-01</td>\n",
       "      <td>972645.75</td>\n",
       "      <td>943858.31</td>\n",
       "      <td>799513.94</td>\n",
       "    </tr>\n",
       "    <tr>\n",
       "      <th>Tungurahua</th>\n",
       "      <td>2017-08-01</td>\n",
       "      <td>981635.62</td>\n",
       "      <td>943858.31</td>\n",
       "      <td>774944.62</td>\n",
       "    </tr>\n",
       "  </tbody>\n",
       "</table>\n",
       "<p>21595 rows × 4 columns</p>\n",
       "</div>"
      ],
      "text/plain": [
       "\n",
       "                   ds   AutoETS     Naive  SeasonalNaive\n",
       "unique_id                                               \n",
       "AUTOMOTIVE \u001b[1;36m2017\u001b[0m-\u001b[1;36m02\u001b[0m-\u001b[1;36m01\u001b[0m  \u001b[1;36m11254.24\u001b[0m  \u001b[1;36m11134.00\u001b[0m       \u001b[1;36m12185.00\u001b[0m\n",
       "AUTOMOTIVE \u001b[1;36m2017\u001b[0m-\u001b[1;36m03\u001b[0m-\u001b[1;36m01\u001b[0m  \u001b[1;36m11254.24\u001b[0m  \u001b[1;36m11134.00\u001b[0m       \u001b[1;36m12058.00\u001b[0m\n",
       "AUTOMOTIVE \u001b[1;36m2017\u001b[0m-\u001b[1;36m04\u001b[0m-\u001b[1;36m01\u001b[0m  \u001b[1;36m11254.24\u001b[0m  \u001b[1;36m11134.00\u001b[0m       \u001b[1;36m11631.00\u001b[0m\n",
       "AUTOMOTIVE \u001b[1;36m2017\u001b[0m-\u001b[1;36m05\u001b[0m-\u001b[1;36m01\u001b[0m  \u001b[1;36m11254.24\u001b[0m  \u001b[1;36m11134.00\u001b[0m       \u001b[1;36m11839.00\u001b[0m\n",
       "AUTOMOTIVE \u001b[1;36m2017\u001b[0m-\u001b[1;36m06\u001b[0m-\u001b[1;36m01\u001b[0m  \u001b[1;36m11254.24\u001b[0m  \u001b[1;36m11134.00\u001b[0m        \u001b[1;36m9936.00\u001b[0m\n",
       "\u001b[33m...\u001b[0m               \u001b[33m...\u001b[0m       \u001b[33m...\u001b[0m       \u001b[33m...\u001b[0m            \u001b[33m...\u001b[0m\n",
       "Tungurahua \u001b[1;36m2017\u001b[0m-\u001b[1;36m04\u001b[0m-\u001b[1;36m01\u001b[0m \u001b[1;36m945676.12\u001b[0m \u001b[1;36m943858.31\u001b[0m      \u001b[1;36m853938.62\u001b[0m\n",
       "Tungurahua \u001b[1;36m2017\u001b[0m-\u001b[1;36m05\u001b[0m-\u001b[1;36m01\u001b[0m \u001b[1;36m954666.00\u001b[0m \u001b[1;36m943858.31\u001b[0m      \u001b[1;36m847921.69\u001b[0m\n",
       "Tungurahua \u001b[1;36m2017\u001b[0m-\u001b[1;36m06\u001b[0m-\u001b[1;36m01\u001b[0m \u001b[1;36m963655.88\u001b[0m \u001b[1;36m943858.31\u001b[0m      \u001b[1;36m759813.69\u001b[0m\n",
       "Tungurahua \u001b[1;36m2017\u001b[0m-\u001b[1;36m07\u001b[0m-\u001b[1;36m01\u001b[0m \u001b[1;36m972645.75\u001b[0m \u001b[1;36m943858.31\u001b[0m      \u001b[1;36m799513.94\u001b[0m\n",
       "Tungurahua \u001b[1;36m2017\u001b[0m-\u001b[1;36m08\u001b[0m-\u001b[1;36m01\u001b[0m \u001b[1;36m981635.62\u001b[0m \u001b[1;36m943858.31\u001b[0m      \u001b[1;36m774944.62\u001b[0m\n",
       "\n",
       "\u001b[1m[\u001b[0m\u001b[1;36m21595\u001b[0m rows x \u001b[1;36m4\u001b[0m columns\u001b[1m]\u001b[0m"
      ]
     },
     "execution_count": 19,
     "metadata": {},
     "output_type": "execute_result"
    }
   ],
   "source": [
    "Y_hat_df"
   ]
  },
  {
   "cell_type": "code",
   "execution_count": 25,
   "id": "1395a7f7-dea3-499a-b711-99de472a38e5",
   "metadata": {},
   "outputs": [
    {
     "data": {
      "text/html": [
       "<pre style=\"white-space:pre;overflow-x:auto;line-height:normal;font-family:Menlo,'DejaVu Sans Mono',consolas,'Courier New',monospace\"></pre>\n"
      ],
      "text/plain": []
     },
     "metadata": {},
     "output_type": "display_data"
    },
    {
     "data": {
      "text/html": [
       "<div>\n",
       "<style scoped>\n",
       "    .dataframe tbody tr th:only-of-type {\n",
       "        vertical-align: middle;\n",
       "    }\n",
       "\n",
       "    .dataframe tbody tr th {\n",
       "        vertical-align: top;\n",
       "    }\n",
       "\n",
       "    .dataframe thead th {\n",
       "        text-align: right;\n",
       "    }\n",
       "</style>\n",
       "<table border=\"1\" class=\"dataframe\">\n",
       "  <thead>\n",
       "    <tr style=\"text-align: right;\">\n",
       "      <th></th>\n",
       "      <th>unique_id</th>\n",
       "      <th>ds</th>\n",
       "      <th>y</th>\n",
       "    </tr>\n",
       "  </thead>\n",
       "  <tbody>\n",
       "    <tr>\n",
       "      <th>3748</th>\n",
       "      <td>BABY CARE/Bolivar</td>\n",
       "      <td>2017-05-01</td>\n",
       "      <td>0.00</td>\n",
       "    </tr>\n",
       "    <tr>\n",
       "      <th>3749</th>\n",
       "      <td>BABY CARE/Bolivar</td>\n",
       "      <td>2017-06-01</td>\n",
       "      <td>0.00</td>\n",
       "    </tr>\n",
       "    <tr>\n",
       "      <th>3801</th>\n",
       "      <td>BABY CARE/Chimborazo</td>\n",
       "      <td>2017-02-01</td>\n",
       "      <td>0.00</td>\n",
       "    </tr>\n",
       "    <tr>\n",
       "      <th>3802</th>\n",
       "      <td>BABY CARE/Chimborazo</td>\n",
       "      <td>2017-03-01</td>\n",
       "      <td>0.00</td>\n",
       "    </tr>\n",
       "    <tr>\n",
       "      <th>3803</th>\n",
       "      <td>BABY CARE/Chimborazo</td>\n",
       "      <td>2017-04-01</td>\n",
       "      <td>0.00</td>\n",
       "    </tr>\n",
       "    <tr>\n",
       "      <th>...</th>\n",
       "      <td>...</td>\n",
       "      <td>...</td>\n",
       "      <td>...</td>\n",
       "    </tr>\n",
       "    <tr>\n",
       "      <th>169677</th>\n",
       "      <td>SCHOOL AND OFFICE SUPPLIES/Tungurahua/Ambato/23</td>\n",
       "      <td>2017-06-01</td>\n",
       "      <td>0.00</td>\n",
       "    </tr>\n",
       "    <tr>\n",
       "      <th>169678</th>\n",
       "      <td>SCHOOL AND OFFICE SUPPLIES/Tungurahua/Ambato/23</td>\n",
       "      <td>2017-07-01</td>\n",
       "      <td>0.00</td>\n",
       "    </tr>\n",
       "    <tr>\n",
       "      <th>169679</th>\n",
       "      <td>SCHOOL AND OFFICE SUPPLIES/Tungurahua/Ambato/23</td>\n",
       "      <td>2017-08-01</td>\n",
       "      <td>0.00</td>\n",
       "    </tr>\n",
       "    <tr>\n",
       "      <th>171241</th>\n",
       "      <td>SEAFOOD/Manabi/Manta/52</td>\n",
       "      <td>2017-02-01</td>\n",
       "      <td>0.00</td>\n",
       "    </tr>\n",
       "    <tr>\n",
       "      <th>171242</th>\n",
       "      <td>SEAFOOD/Manabi/Manta/52</td>\n",
       "      <td>2017-03-01</td>\n",
       "      <td>0.00</td>\n",
       "    </tr>\n",
       "  </tbody>\n",
       "</table>\n",
       "<p>1253 rows × 3 columns</p>\n",
       "</div>"
      ],
      "text/plain": [
       "\n",
       "                                              unique_id         ds    y\n",
       "\u001b[1;36m3748\u001b[0m                                  BABY CARE/Bolivar \u001b[1;36m2017\u001b[0m-\u001b[1;36m05\u001b[0m-\u001b[1;36m01\u001b[0m \u001b[1;36m0.00\u001b[0m\n",
       "\u001b[1;36m3749\u001b[0m                                  BABY CARE/Bolivar \u001b[1;36m2017\u001b[0m-\u001b[1;36m06\u001b[0m-\u001b[1;36m01\u001b[0m \u001b[1;36m0.00\u001b[0m\n",
       "\u001b[1;36m3801\u001b[0m                               BABY CARE/Chimborazo \u001b[1;36m2017\u001b[0m-\u001b[1;36m02\u001b[0m-\u001b[1;36m01\u001b[0m \u001b[1;36m0.00\u001b[0m\n",
       "\u001b[1;36m3802\u001b[0m                               BABY CARE/Chimborazo \u001b[1;36m2017\u001b[0m-\u001b[1;36m03\u001b[0m-\u001b[1;36m01\u001b[0m \u001b[1;36m0.00\u001b[0m\n",
       "\u001b[1;36m3803\u001b[0m                               BABY CARE/Chimborazo \u001b[1;36m2017\u001b[0m-\u001b[1;36m04\u001b[0m-\u001b[1;36m01\u001b[0m \u001b[1;36m0.00\u001b[0m\n",
       "\u001b[33m...\u001b[0m                                                 \u001b[33m...\u001b[0m        \u001b[33m...\u001b[0m  \u001b[33m...\u001b[0m\n",
       "\u001b[1;36m169677\u001b[0m  SCHOOL AND OFFICE SUPPLIES/Tungurahua/Ambato/\u001b[1;36m23\u001b[0m \u001b[1;36m2017\u001b[0m-\u001b[1;36m06\u001b[0m-\u001b[1;36m01\u001b[0m \u001b[1;36m0.00\u001b[0m\n",
       "\u001b[1;36m169678\u001b[0m  SCHOOL AND OFFICE SUPPLIES/Tungurahua/Ambato/\u001b[1;36m23\u001b[0m \u001b[1;36m2017\u001b[0m-\u001b[1;36m07\u001b[0m-\u001b[1;36m01\u001b[0m \u001b[1;36m0.00\u001b[0m\n",
       "\u001b[1;36m169679\u001b[0m  SCHOOL AND OFFICE SUPPLIES/Tungurahua/Ambato/\u001b[1;36m23\u001b[0m \u001b[1;36m2017\u001b[0m-\u001b[1;36m08\u001b[0m-\u001b[1;36m01\u001b[0m \u001b[1;36m0.00\u001b[0m\n",
       "\u001b[1;36m171241\u001b[0m                          SEAFOOD/Manabi/Manta/\u001b[1;36m52\u001b[0m \u001b[1;36m2017\u001b[0m-\u001b[1;36m02\u001b[0m-\u001b[1;36m01\u001b[0m \u001b[1;36m0.00\u001b[0m\n",
       "\u001b[1;36m171242\u001b[0m                          SEAFOOD/Manabi/Manta/\u001b[1;36m52\u001b[0m \u001b[1;36m2017\u001b[0m-\u001b[1;36m03\u001b[0m-\u001b[1;36m01\u001b[0m \u001b[1;36m0.00\u001b[0m\n",
       "\n",
       "\u001b[1m[\u001b[0m\u001b[1;36m1253\u001b[0m rows x \u001b[1;36m3\u001b[0m columns\u001b[1m]\u001b[0m"
      ]
     },
     "execution_count": 25,
     "metadata": {},
     "output_type": "execute_result"
    }
   ],
   "source": [
    "Y_test_df[Y_test_df.y==0]"
   ]
  },
  {
   "cell_type": "code",
   "execution_count": null,
   "id": "9b1dc43a-4d0f-4cd9-a247-228f249935be",
   "metadata": {},
   "outputs": [],
   "source": [
    "def mae(y: np.ndarray, y_hat: np.ndarray) -> np.ndarray:\n",
    "\n",
    "    \"\"\"\n",
    "    Description\n",
    "        ----------\n",
    "        Mean Absolute Error (MAE): the average deviatio between prediction and the actual values.\n",
    "        It is a scale-dependent model, as scale is necessary to correctly interpret the performance\n",
    "        of a specific model. The lower the value of the MAE, the better the regression model, as this\n",
    "        indicates that the predictions are closer to the actual observed values.\n",
    "\n",
    "        Parameters\n",
    "        ----------\n",
    "        y:\n",
    "            Array representing the actual observed values.\n",
    "        y_hat:\n",
    "            Array representing the predicted values.\n",
    "    \"\"\"\n",
    "\n",
    "    delta_y = abs(y - y_hat)\n",
    "    mae = np.nanmean(delta_y)\n",
    "\n",
    "    return mae"
   ]
  },
  {
   "cell_type": "code",
   "execution_count": 23,
   "id": "b7fa1617-1254-4a2c-bd3a-3e39ce7fcb5d",
   "metadata": {},
   "outputs": [],
   "source": [
    "from hierarchicalforecast.evaluation import HierarchicalEvaluation, mse\n",
    "\n",
    "evaluator = HierarchicalEvaluation(evaluators=[mse, mae])\n",
    "eval_df = evaluator.evaluate(\n",
    "    Y_hat_df=Y_hat_df,\n",
    "    Y_test_df=Y_test_df.set_index(\"unique_id\"),\n",
    "    tags=tags\n",
    ").reset_index()"
   ]
  },
  {
   "cell_type": "code",
   "execution_count": 24,
   "id": "dbd15d22-0acd-47f1-a535-27adb729c351",
   "metadata": {},
   "outputs": [
    {
     "data": {
      "text/html": [
       "<pre style=\"white-space:pre;overflow-x:auto;line-height:normal;font-family:Menlo,'DejaVu Sans Mono',consolas,'Courier New',monospace\"></pre>\n"
      ],
      "text/plain": []
     },
     "metadata": {},
     "output_type": "display_data"
    },
    {
     "data": {
      "text/html": [
       "<div>\n",
       "<style scoped>\n",
       "    .dataframe tbody tr th:only-of-type {\n",
       "        vertical-align: middle;\n",
       "    }\n",
       "\n",
       "    .dataframe tbody tr th {\n",
       "        vertical-align: top;\n",
       "    }\n",
       "\n",
       "    .dataframe thead th {\n",
       "        text-align: right;\n",
       "    }\n",
       "</style>\n",
       "<table border=\"1\" class=\"dataframe\">\n",
       "  <thead>\n",
       "    <tr style=\"text-align: right;\">\n",
       "      <th></th>\n",
       "      <th>level</th>\n",
       "      <th>metric</th>\n",
       "      <th>AutoETS</th>\n",
       "      <th>Naive</th>\n",
       "      <th>SeasonalNaive</th>\n",
       "    </tr>\n",
       "  </thead>\n",
       "  <tbody>\n",
       "    <tr>\n",
       "      <th>0</th>\n",
       "      <td>Overall</td>\n",
       "      <td>mse</td>\n",
       "      <td>9528924881.93</td>\n",
       "      <td>6816023738.18</td>\n",
       "      <td>4251538315.21</td>\n",
       "    </tr>\n",
       "    <tr>\n",
       "      <th>1</th>\n",
       "      <td>family</td>\n",
       "      <td>mse</td>\n",
       "      <td>212930111792.35</td>\n",
       "      <td>156116534289.87</td>\n",
       "      <td>117594716890.46</td>\n",
       "    </tr>\n",
       "    <tr>\n",
       "      <th>2</th>\n",
       "      <td>state</td>\n",
       "      <td>mse</td>\n",
       "      <td>1061307836483.50</td>\n",
       "      <td>729791100640.49</td>\n",
       "      <td>416415977101.17</td>\n",
       "    </tr>\n",
       "    <tr>\n",
       "      <th>3</th>\n",
       "      <td>family/state</td>\n",
       "      <td>mse</td>\n",
       "      <td>5099551235.70</td>\n",
       "      <td>3920102568.61</td>\n",
       "      <td>2401501743.66</td>\n",
       "    </tr>\n",
       "    <tr>\n",
       "      <th>4</th>\n",
       "      <td>family/state/city</td>\n",
       "      <td>mse</td>\n",
       "      <td>3355882479.13</td>\n",
       "      <td>2631170132.51</td>\n",
       "      <td>1554771977.25</td>\n",
       "    </tr>\n",
       "    <tr>\n",
       "      <th>5</th>\n",
       "      <td>family/state/city/store_nbr</td>\n",
       "      <td>mse</td>\n",
       "      <td>146004744.99</td>\n",
       "      <td>122831828.30</td>\n",
       "      <td>98741321.70</td>\n",
       "    </tr>\n",
       "  </tbody>\n",
       "</table>\n",
       "</div>"
      ],
      "text/plain": [
       "\n",
       "                         level metric          AutoETS           Naive  \\\n",
       "\u001b[1;36m0\u001b[0m                      Overall    mse    \u001b[1;36m9528924881.93\u001b[0m   \u001b[1;36m6816023738.18\u001b[0m   \n",
       "\u001b[1;36m1\u001b[0m                       family    mse  \u001b[1;36m212930111792.35\u001b[0m \u001b[1;36m156116534289.87\u001b[0m   \n",
       "\u001b[1;36m2\u001b[0m                        state    mse \u001b[1;36m1061307836483.50\u001b[0m \u001b[1;36m729791100640.49\u001b[0m   \n",
       "\u001b[1;36m3\u001b[0m                 family/state    mse    \u001b[1;36m5099551235.70\u001b[0m   \u001b[1;36m3920102568.61\u001b[0m   \n",
       "\u001b[1;36m4\u001b[0m            family/state/city    mse    \u001b[1;36m3355882479.13\u001b[0m   \u001b[1;36m2631170132.51\u001b[0m   \n",
       "\u001b[1;36m5\u001b[0m  family/state/city/store_nbr    mse     \u001b[1;36m146004744.99\u001b[0m    \u001b[1;36m122831828.30\u001b[0m   \n",
       "\n",
       "    SeasonalNaive  \n",
       "\u001b[1;36m0\u001b[0m   \u001b[1;36m4251538315.21\u001b[0m  \n",
       "\u001b[1;36m1\u001b[0m \u001b[1;36m117594716890.46\u001b[0m  \n",
       "\u001b[1;36m2\u001b[0m \u001b[1;36m416415977101.17\u001b[0m  \n",
       "\u001b[1;36m3\u001b[0m   \u001b[1;36m2401501743.66\u001b[0m  \n",
       "\u001b[1;36m4\u001b[0m   \u001b[1;36m1554771977.25\u001b[0m  \n",
       "\u001b[1;36m5\u001b[0m     \u001b[1;36m98741321.70\u001b[0m  "
      ]
     },
     "execution_count": 24,
     "metadata": {},
     "output_type": "execute_result"
    }
   ],
   "source": [
    "eval_df"
   ]
  },
  {
   "cell_type": "markdown",
   "id": "015e532a-a80f-4403-8879-d344891bab6f",
   "metadata": {},
   "source": [
    "### Intermitência"
   ]
  },
  {
   "cell_type": "code",
   "execution_count": null,
   "id": "bbe92940-db84-4341-92d8-f4601e529365",
   "metadata": {},
   "outputs": [],
   "source": [
    "## Métricas "
   ]
  },
  {
   "cell_type": "code",
   "execution_count": null,
   "id": "b3ca2076-011c-4cc3-9032-5c68c6b25b06",
   "metadata": {},
   "outputs": [],
   "source": [
    "## Regressão"
   ]
  }
 ],
 "metadata": {
  "kernelspec": {
   "display_name": "Kedro (base_kedro_hierarchical_project)",
   "language": "python",
   "name": "kedro_base_kedro_hierarchical_project"
  },
  "language_info": {
   "codemirror_mode": {
    "name": "ipython",
    "version": 3
   },
   "file_extension": ".py",
   "mimetype": "text/x-python",
   "name": "python",
   "nbconvert_exporter": "python",
   "pygments_lexer": "ipython3",
   "version": "3.10.12"
  }
 },
 "nbformat": 4,
 "nbformat_minor": 5
}
